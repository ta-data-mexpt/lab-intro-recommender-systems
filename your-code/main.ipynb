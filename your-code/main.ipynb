{
 "cells": [
  {
   "cell_type": "markdown",
   "metadata": {},
   "source": [
    "# Intro to Recommender Systems Lab\n",
    "\n",
    "Complete the exercises below to solidify your knowledge and understanding of recommender systems.\n",
    "\n",
    "For this lab, we are going to be putting together a user similarity based recommender system in a step-by-step fashion. Our data set contains customer grocery purchases, and we will use similar purchase behavior to inform our recommender system. Our recommender system will generate 5 recommendations for each customer based on the purchases they have made."
   ]
  },
  {
   "cell_type": "code",
   "execution_count": 1,
   "metadata": {},
   "outputs": [],
   "source": [
    "import pandas as pd\n",
    "from scipy.spatial.distance import pdist, squareform"
   ]
  },
  {
   "cell_type": "code",
   "execution_count": 4,
   "metadata": {},
   "outputs": [],
   "source": [
    "data = pd.read_csv('/Users/alejandropalacios/Desktop/Ironhack/Data Analytics Bootcamp/Advanced Data Analysis Techniques/lab-intro-recommender-systems/data/customer_product_sales.csv')"
   ]
  },
  {
   "cell_type": "code",
   "execution_count": 5,
   "metadata": {},
   "outputs": [
    {
     "output_type": "execute_result",
     "data": {
      "text/plain": "   CustomerID FirstName   LastName  SalesID  ProductID           ProductName  \\\n0       61288      Rosa   Andersen   134196        229  Bread - Hot Dog Buns   \n1       77352     Myron     Murray  6167892        229  Bread - Hot Dog Buns   \n2       40094     Susan  Stevenson  5970885        229  Bread - Hot Dog Buns   \n3       23548    Tricia    Vincent  6426954        229  Bread - Hot Dog Buns   \n4       78981     Scott      Burch   819094        229  Bread - Hot Dog Buns   \n\n   Quantity  \n0        16  \n1        20  \n2        11  \n3         6  \n4        20  ",
      "text/html": "<div>\n<style scoped>\n    .dataframe tbody tr th:only-of-type {\n        vertical-align: middle;\n    }\n\n    .dataframe tbody tr th {\n        vertical-align: top;\n    }\n\n    .dataframe thead th {\n        text-align: right;\n    }\n</style>\n<table border=\"1\" class=\"dataframe\">\n  <thead>\n    <tr style=\"text-align: right;\">\n      <th></th>\n      <th>CustomerID</th>\n      <th>FirstName</th>\n      <th>LastName</th>\n      <th>SalesID</th>\n      <th>ProductID</th>\n      <th>ProductName</th>\n      <th>Quantity</th>\n    </tr>\n  </thead>\n  <tbody>\n    <tr>\n      <th>0</th>\n      <td>61288</td>\n      <td>Rosa</td>\n      <td>Andersen</td>\n      <td>134196</td>\n      <td>229</td>\n      <td>Bread - Hot Dog Buns</td>\n      <td>16</td>\n    </tr>\n    <tr>\n      <th>1</th>\n      <td>77352</td>\n      <td>Myron</td>\n      <td>Murray</td>\n      <td>6167892</td>\n      <td>229</td>\n      <td>Bread - Hot Dog Buns</td>\n      <td>20</td>\n    </tr>\n    <tr>\n      <th>2</th>\n      <td>40094</td>\n      <td>Susan</td>\n      <td>Stevenson</td>\n      <td>5970885</td>\n      <td>229</td>\n      <td>Bread - Hot Dog Buns</td>\n      <td>11</td>\n    </tr>\n    <tr>\n      <th>3</th>\n      <td>23548</td>\n      <td>Tricia</td>\n      <td>Vincent</td>\n      <td>6426954</td>\n      <td>229</td>\n      <td>Bread - Hot Dog Buns</td>\n      <td>6</td>\n    </tr>\n    <tr>\n      <th>4</th>\n      <td>78981</td>\n      <td>Scott</td>\n      <td>Burch</td>\n      <td>819094</td>\n      <td>229</td>\n      <td>Bread - Hot Dog Buns</td>\n      <td>20</td>\n    </tr>\n  </tbody>\n</table>\n</div>"
     },
     "metadata": {},
     "execution_count": 5
    }
   ],
   "source": [
    "data.head()"
   ]
  },
  {
   "cell_type": "markdown",
   "metadata": {},
   "source": [
    "## Step 1: Create a data frame that contains the total quantity of each product purchased by each customer.\n",
    "\n",
    "You will need to group by CustomerID and ProductName and then sum the Quantity field."
   ]
  },
  {
   "cell_type": "code",
   "execution_count": 6,
   "metadata": {},
   "outputs": [
    {
     "output_type": "execute_result",
     "data": {
      "text/plain": "                                          Quantity\nCustomerID ProductName                            \n33         Apricots - Dried                      1\n           Assorted Desserts                     1\n           Bandage - Flexible Neon               1\n           Bar Mix - Pina Colada, 355 Ml         1\n           Beans - Kidney, Canned                1",
      "text/html": "<div>\n<style scoped>\n    .dataframe tbody tr th:only-of-type {\n        vertical-align: middle;\n    }\n\n    .dataframe tbody tr th {\n        vertical-align: top;\n    }\n\n    .dataframe thead th {\n        text-align: right;\n    }\n</style>\n<table border=\"1\" class=\"dataframe\">\n  <thead>\n    <tr style=\"text-align: right;\">\n      <th></th>\n      <th></th>\n      <th>Quantity</th>\n    </tr>\n    <tr>\n      <th>CustomerID</th>\n      <th>ProductName</th>\n      <th></th>\n    </tr>\n  </thead>\n  <tbody>\n    <tr>\n      <th rowspan=\"5\" valign=\"top\">33</th>\n      <th>Apricots - Dried</th>\n      <td>1</td>\n    </tr>\n    <tr>\n      <th>Assorted Desserts</th>\n      <td>1</td>\n    </tr>\n    <tr>\n      <th>Bandage - Flexible Neon</th>\n      <td>1</td>\n    </tr>\n    <tr>\n      <th>Bar Mix - Pina Colada, 355 Ml</th>\n      <td>1</td>\n    </tr>\n    <tr>\n      <th>Beans - Kidney, Canned</th>\n      <td>1</td>\n    </tr>\n  </tbody>\n</table>\n</div>"
     },
     "metadata": {},
     "execution_count": 6
    }
   ],
   "source": [
    "total_q = pd.pivot_table(data, index=['CustomerID','ProductName'], values=['Quantity'], aggfunc='sum')\n",
    "total_q.head()"
   ]
  },
  {
   "cell_type": "markdown",
   "metadata": {},
   "source": [
    "## Step 2: Use the `pivot_table` method to create a product by customer matrix.\n",
    "\n",
    "The rows of the matrix should represent the products, the columns should represent the customers, and the values should be the quantities of each product purchased by each customer. You will also need to replace nulls with zeros, which you can do using the `fillna` method."
   ]
  },
  {
   "cell_type": "code",
   "execution_count": 7,
   "metadata": {},
   "outputs": [
    {
     "output_type": "execute_result",
     "data": {
      "text/plain": "CustomerID                         33     200    264    356    412    464    \\\nProductName                                                                   \nAnchovy Paste - 56 G Tube            0.0    0.0    0.0    0.0    0.0    0.0   \nAppetizer - Mini Egg Roll, Shrimp    0.0    0.0    0.0    0.0    0.0    0.0   \nAppetizer - Mushroom Tart            0.0    0.0    0.0    0.0    0.0    0.0   \nAppetizer - Sausage Rolls            0.0    0.0    0.0    0.0    0.0    0.0   \nApricots - Dried                     1.0    0.0    0.0    0.0    1.0    0.0   \n\nCustomerID                         477    639    649    669    ...  97697  \\\nProductName                                                    ...          \nAnchovy Paste - 56 G Tube            0.0    1.0    0.0    0.0  ...    0.0   \nAppetizer - Mini Egg Roll, Shrimp    0.0    0.0    0.0    0.0  ...   25.0   \nAppetizer - Mushroom Tart            0.0    1.0    0.0    0.0  ...   25.0   \nAppetizer - Sausage Rolls            0.0    0.0    0.0    0.0  ...    0.0   \nApricots - Dried                     0.0    0.0    0.0    0.0  ...    0.0   \n\nCustomerID                         97753  97769  97793  97900  97928  98069  \\\nProductName                                                                   \nAnchovy Paste - 56 G Tube           25.0    0.0    0.0    0.0    0.0    0.0   \nAppetizer - Mini Egg Roll, Shrimp   25.0    0.0    0.0    0.0    0.0    0.0   \nAppetizer - Mushroom Tart            0.0    0.0    0.0    0.0    0.0    0.0   \nAppetizer - Sausage Rolls            0.0    0.0    0.0   25.0   25.0   25.0   \nApricots - Dried                    25.0    0.0    0.0    0.0    0.0    0.0   \n\nCustomerID                         98159  98185  98200  \nProductName                                             \nAnchovy Paste - 56 G Tube            0.0    0.0    0.0  \nAppetizer - Mini Egg Roll, Shrimp    0.0    0.0    0.0  \nAppetizer - Mushroom Tart            0.0   25.0    0.0  \nAppetizer - Sausage Rolls            0.0   25.0    0.0  \nApricots - Dried                     0.0    0.0    0.0  \n\n[5 rows x 1000 columns]",
      "text/html": "<div>\n<style scoped>\n    .dataframe tbody tr th:only-of-type {\n        vertical-align: middle;\n    }\n\n    .dataframe tbody tr th {\n        vertical-align: top;\n    }\n\n    .dataframe thead th {\n        text-align: right;\n    }\n</style>\n<table border=\"1\" class=\"dataframe\">\n  <thead>\n    <tr style=\"text-align: right;\">\n      <th>CustomerID</th>\n      <th>33</th>\n      <th>200</th>\n      <th>264</th>\n      <th>356</th>\n      <th>412</th>\n      <th>464</th>\n      <th>477</th>\n      <th>639</th>\n      <th>649</th>\n      <th>669</th>\n      <th>...</th>\n      <th>97697</th>\n      <th>97753</th>\n      <th>97769</th>\n      <th>97793</th>\n      <th>97900</th>\n      <th>97928</th>\n      <th>98069</th>\n      <th>98159</th>\n      <th>98185</th>\n      <th>98200</th>\n    </tr>\n    <tr>\n      <th>ProductName</th>\n      <th></th>\n      <th></th>\n      <th></th>\n      <th></th>\n      <th></th>\n      <th></th>\n      <th></th>\n      <th></th>\n      <th></th>\n      <th></th>\n      <th></th>\n      <th></th>\n      <th></th>\n      <th></th>\n      <th></th>\n      <th></th>\n      <th></th>\n      <th></th>\n      <th></th>\n      <th></th>\n      <th></th>\n    </tr>\n  </thead>\n  <tbody>\n    <tr>\n      <th>Anchovy Paste - 56 G Tube</th>\n      <td>0.0</td>\n      <td>0.0</td>\n      <td>0.0</td>\n      <td>0.0</td>\n      <td>0.0</td>\n      <td>0.0</td>\n      <td>0.0</td>\n      <td>1.0</td>\n      <td>0.0</td>\n      <td>0.0</td>\n      <td>...</td>\n      <td>0.0</td>\n      <td>25.0</td>\n      <td>0.0</td>\n      <td>0.0</td>\n      <td>0.0</td>\n      <td>0.0</td>\n      <td>0.0</td>\n      <td>0.0</td>\n      <td>0.0</td>\n      <td>0.0</td>\n    </tr>\n    <tr>\n      <th>Appetizer - Mini Egg Roll, Shrimp</th>\n      <td>0.0</td>\n      <td>0.0</td>\n      <td>0.0</td>\n      <td>0.0</td>\n      <td>0.0</td>\n      <td>0.0</td>\n      <td>0.0</td>\n      <td>0.0</td>\n      <td>0.0</td>\n      <td>0.0</td>\n      <td>...</td>\n      <td>25.0</td>\n      <td>25.0</td>\n      <td>0.0</td>\n      <td>0.0</td>\n      <td>0.0</td>\n      <td>0.0</td>\n      <td>0.0</td>\n      <td>0.0</td>\n      <td>0.0</td>\n      <td>0.0</td>\n    </tr>\n    <tr>\n      <th>Appetizer - Mushroom Tart</th>\n      <td>0.0</td>\n      <td>0.0</td>\n      <td>0.0</td>\n      <td>0.0</td>\n      <td>0.0</td>\n      <td>0.0</td>\n      <td>0.0</td>\n      <td>1.0</td>\n      <td>0.0</td>\n      <td>0.0</td>\n      <td>...</td>\n      <td>25.0</td>\n      <td>0.0</td>\n      <td>0.0</td>\n      <td>0.0</td>\n      <td>0.0</td>\n      <td>0.0</td>\n      <td>0.0</td>\n      <td>0.0</td>\n      <td>25.0</td>\n      <td>0.0</td>\n    </tr>\n    <tr>\n      <th>Appetizer - Sausage Rolls</th>\n      <td>0.0</td>\n      <td>0.0</td>\n      <td>0.0</td>\n      <td>0.0</td>\n      <td>0.0</td>\n      <td>0.0</td>\n      <td>0.0</td>\n      <td>0.0</td>\n      <td>0.0</td>\n      <td>0.0</td>\n      <td>...</td>\n      <td>0.0</td>\n      <td>0.0</td>\n      <td>0.0</td>\n      <td>0.0</td>\n      <td>25.0</td>\n      <td>25.0</td>\n      <td>25.0</td>\n      <td>0.0</td>\n      <td>25.0</td>\n      <td>0.0</td>\n    </tr>\n    <tr>\n      <th>Apricots - Dried</th>\n      <td>1.0</td>\n      <td>0.0</td>\n      <td>0.0</td>\n      <td>0.0</td>\n      <td>1.0</td>\n      <td>0.0</td>\n      <td>0.0</td>\n      <td>0.0</td>\n      <td>0.0</td>\n      <td>0.0</td>\n      <td>...</td>\n      <td>0.0</td>\n      <td>25.0</td>\n      <td>0.0</td>\n      <td>0.0</td>\n      <td>0.0</td>\n      <td>0.0</td>\n      <td>0.0</td>\n      <td>0.0</td>\n      <td>0.0</td>\n      <td>0.0</td>\n    </tr>\n  </tbody>\n</table>\n<p>5 rows × 1000 columns</p>\n</div>"
     },
     "metadata": {},
     "execution_count": 7
    }
   ],
   "source": [
    "product_matrix = pd.pivot_table(data, index='ProductName', columns='CustomerID', values='Quantity').fillna(0)\n",
    "product_matrix.head()"
   ]
  },
  {
   "cell_type": "markdown",
   "metadata": {},
   "source": [
    "## Step 3: Create a customer similarity matrix using `squareform` and `pdist`. For the distance metric, choose \"euclidean.\""
   ]
  },
  {
   "cell_type": "code",
   "execution_count": 8,
   "metadata": {},
   "outputs": [
    {
     "output_type": "execute_result",
     "data": {
      "text/plain": "(1000, 1000)"
     },
     "metadata": {},
     "execution_count": 8
    }
   ],
   "source": [
    "distances = pd.DataFrame(1/(1 + squareform(pdist(product_matrix.T, 'euclidean'))), index=product_matrix.columns, columns=product_matrix.columns)\n",
    "distances.shape"
   ]
  },
  {
   "cell_type": "markdown",
   "metadata": {},
   "source": [
    "## Step 4: Check your results by generating a list of the top 5 most similar customers for a specific CustomerID."
   ]
  },
  {
   "cell_type": "code",
   "execution_count": 17,
   "metadata": {},
   "outputs": [
    {
     "output_type": "execute_result",
     "data": {
      "text/plain": "CustomerID\n3909    0.095358\n264     0.093953\n3531    0.093953\n2503    0.093498\n3305    0.093051\nName: 33, dtype: float64"
     },
     "metadata": {},
     "execution_count": 17
    }
   ],
   "source": [
    "similarities = distances[33].sort_values(ascending=False)[1:6]\n",
    "similarities"
   ]
  },
  {
   "cell_type": "markdown",
   "metadata": {},
   "source": [
    "## Step 5: From the data frame you created in Step 1, select the records for the list of similar CustomerIDs you obtained in Step 4."
   ]
  },
  {
   "cell_type": "code",
   "execution_count": 20,
   "metadata": {},
   "outputs": [
    {
     "output_type": "execute_result",
     "data": {
      "text/plain": "                                           Quantity\nCustomerID ProductName                             \n264        Apricots - Halves                      1\n           Apricots Fresh                         1\n           Bacardi Breezer - Tropical             1\n           Bagel - Plain                          1\n           Banana - Leaves                        1\n...                                             ...\n3909       Wine - Charddonnay Errazuriz           2\n           Wine - Fume Blanc Fetzer               1\n           Wine - Magnotta, Merlot Sr Vqa         1\n           Wine - Toasted Head                    1\n           Wine - Valpolicella Masi               1\n\n[282 rows x 1 columns]",
      "text/html": "<div>\n<style scoped>\n    .dataframe tbody tr th:only-of-type {\n        vertical-align: middle;\n    }\n\n    .dataframe tbody tr th {\n        vertical-align: top;\n    }\n\n    .dataframe thead th {\n        text-align: right;\n    }\n</style>\n<table border=\"1\" class=\"dataframe\">\n  <thead>\n    <tr style=\"text-align: right;\">\n      <th></th>\n      <th></th>\n      <th>Quantity</th>\n    </tr>\n    <tr>\n      <th>CustomerID</th>\n      <th>ProductName</th>\n      <th></th>\n    </tr>\n  </thead>\n  <tbody>\n    <tr>\n      <th rowspan=\"5\" valign=\"top\">264</th>\n      <th>Apricots - Halves</th>\n      <td>1</td>\n    </tr>\n    <tr>\n      <th>Apricots Fresh</th>\n      <td>1</td>\n    </tr>\n    <tr>\n      <th>Bacardi Breezer - Tropical</th>\n      <td>1</td>\n    </tr>\n    <tr>\n      <th>Bagel - Plain</th>\n      <td>1</td>\n    </tr>\n    <tr>\n      <th>Banana - Leaves</th>\n      <td>1</td>\n    </tr>\n    <tr>\n      <th>...</th>\n      <th>...</th>\n      <td>...</td>\n    </tr>\n    <tr>\n      <th rowspan=\"5\" valign=\"top\">3909</th>\n      <th>Wine - Charddonnay Errazuriz</th>\n      <td>2</td>\n    </tr>\n    <tr>\n      <th>Wine - Fume Blanc Fetzer</th>\n      <td>1</td>\n    </tr>\n    <tr>\n      <th>Wine - Magnotta, Merlot Sr Vqa</th>\n      <td>1</td>\n    </tr>\n    <tr>\n      <th>Wine - Toasted Head</th>\n      <td>1</td>\n    </tr>\n    <tr>\n      <th>Wine - Valpolicella Masi</th>\n      <td>1</td>\n    </tr>\n  </tbody>\n</table>\n<p>282 rows × 1 columns</p>\n</div>"
     },
     "metadata": {},
     "execution_count": 20
    }
   ],
   "source": [
    "records = total_q.loc[similarities.index]\n",
    "records"
   ]
  },
  {
   "cell_type": "markdown",
   "metadata": {},
   "source": [
    "## Step 6: Aggregate those customer purchase records by ProductName, sum the Quantity field, and then rank them in descending order by quantity.\n",
    "\n",
    "This will give you the total number of each product purchased by the 5 most similar customers to the customer you selected in order from most purchased to least."
   ]
  },
  {
   "cell_type": "code",
   "execution_count": 21,
   "metadata": {},
   "outputs": [
    {
     "output_type": "execute_result",
     "data": {
      "text/plain": "                               Quantity\nProductName                            \nSalsify, Organic                      4\nQuiche Assorted                       3\nChocolate - Dark                      3\nWine - Charddonnay Errazuriz          3\nBay Leaf                              3\n...                                 ...\nGatorade - Xfactor Berry              1\nGloves - Goldtouch Disposable         1\nGrouper - Fresh                       1\nHinge W Undercut                      1\nYogurt - French Vanilla               1\n\n[235 rows x 1 columns]",
      "text/html": "<div>\n<style scoped>\n    .dataframe tbody tr th:only-of-type {\n        vertical-align: middle;\n    }\n\n    .dataframe tbody tr th {\n        vertical-align: top;\n    }\n\n    .dataframe thead th {\n        text-align: right;\n    }\n</style>\n<table border=\"1\" class=\"dataframe\">\n  <thead>\n    <tr style=\"text-align: right;\">\n      <th></th>\n      <th>Quantity</th>\n    </tr>\n    <tr>\n      <th>ProductName</th>\n      <th></th>\n    </tr>\n  </thead>\n  <tbody>\n    <tr>\n      <th>Salsify, Organic</th>\n      <td>4</td>\n    </tr>\n    <tr>\n      <th>Quiche Assorted</th>\n      <td>3</td>\n    </tr>\n    <tr>\n      <th>Chocolate - Dark</th>\n      <td>3</td>\n    </tr>\n    <tr>\n      <th>Wine - Charddonnay Errazuriz</th>\n      <td>3</td>\n    </tr>\n    <tr>\n      <th>Bay Leaf</th>\n      <td>3</td>\n    </tr>\n    <tr>\n      <th>...</th>\n      <td>...</td>\n    </tr>\n    <tr>\n      <th>Gatorade - Xfactor Berry</th>\n      <td>1</td>\n    </tr>\n    <tr>\n      <th>Gloves - Goldtouch Disposable</th>\n      <td>1</td>\n    </tr>\n    <tr>\n      <th>Grouper - Fresh</th>\n      <td>1</td>\n    </tr>\n    <tr>\n      <th>Hinge W Undercut</th>\n      <td>1</td>\n    </tr>\n    <tr>\n      <th>Yogurt - French Vanilla</th>\n      <td>1</td>\n    </tr>\n  </tbody>\n</table>\n<p>235 rows × 1 columns</p>\n</div>"
     },
     "metadata": {},
     "execution_count": 21
    }
   ],
   "source": [
    "aggregation = records.groupby('ProductName').sum().sort_values(by='Quantity',ascending=False)\n",
    "aggregation"
   ]
  },
  {
   "cell_type": "markdown",
   "metadata": {},
   "source": [
    "## Step 7: Filter the list for products that the chosen customer has not yet purchased and then recommend the top 5 products with the highest quantities that are left.\n",
    "\n",
    "- Merge the ranked products data frame with the customer product matrix on the ProductName field.\n",
    "- Filter for records where the chosen customer has not purchased the product.\n",
    "- Show the top 5 results."
   ]
  },
  {
   "cell_type": "code",
   "execution_count": 22,
   "metadata": {
    "tags": []
   },
   "outputs": [
    {
     "output_type": "stream",
     "name": "stdout",
     "text": "Chocolate - Dark\nWine - Charddonnay Errazuriz\nBay Leaf\nOranges - Navel, 72\nWine - Ej Gallo Sierra Valley\n"
    }
   ],
   "source": [
    "a = 0\n",
    "for product in aggregation.index:\n",
    "    if product_matrix.loc[product][33]==0:\n",
    "        print(product)\n",
    "        a += 1\n",
    "    if a == 5:\n",
    "        break"
   ]
  },
  {
   "cell_type": "markdown",
   "metadata": {},
   "source": [
    "## Step 8: Now that we have generated product recommendations for a single user, put the pieces together and iterate over a list of all CustomerIDs.\n",
    "\n",
    "- Create an empty dictionary that will hold the recommendations for all customers.\n",
    "- Create a list of unique CustomerIDs to iterate over.\n",
    "- Iterate over the customer list performing steps 4 through 7 for each and appending the results of each iteration to the dictionary you created."
   ]
  },
  {
   "cell_type": "code",
   "execution_count": 24,
   "metadata": {},
   "outputs": [],
   "source": [
    "recomendations = {}\n",
    "def recomendation(CustomerID):\n",
    "    rec = []\n",
    "    similarities = distances[CustomerID].sort_values(ascending=False)[1:6]\n",
    "    records = total_q.loc[similarities.index]\n",
    "    aggregation = pd.pivot_table(records, index=['ProductName'], values=['Quantity'],aggfunc='sum').sort_values(by='Quantity',ascending=False)\n",
    "    a = 0\n",
    "    for product in aggregation.index:\n",
    "        if product_matrix.loc[product][CustomerID] == 0:\n",
    "            rec.append(product)\n",
    "            a += 1\n",
    "        if a == 5:\n",
    "            break\n",
    "    recomendations[CustomerID] = rec"
   ]
  },
  {
   "cell_type": "code",
   "execution_count": 28,
   "metadata": {},
   "outputs": [],
   "source": [
    "for client in product_matrix.columns:\n",
    "    recomendation(client)"
   ]
  },
  {
   "cell_type": "code",
   "execution_count": 29,
   "metadata": {},
   "outputs": [
    {
     "output_type": "execute_result",
     "data": {
      "text/plain": "'Lettuce - Frisee',\n  'Tahini Paste',\n  'Turnip - White, Organic',\n  'Crackers - Trio'],\n 84972: ['Sole - Dover, Whole, Fresh',\n  'Beans - Kidney, Red Dry',\n  'Hickory Smoke, Liquid',\n  'Scallops - Live In Shell',\n  'Muffin - Carrot Individual Wrap'],\n 85032: ['Cheese Cloth No 100',\n  'Water, Tap',\n  'Bar Mix - Pina Colada, 355 Ml',\n  'Sponge Cake Mix - Chocolate',\n  'Cup - Translucent 7 Oz Clear'],\n 85161: ['Bread - Roll, Canadian Dinner',\n  'Chef Hat 20cm',\n  'Fenngreek Seed',\n  'Coffee Decaf Colombian',\n  'Apricots - Halves'],\n 85246: ['Pickerel - Fillets',\n  'Chocolate - Compound Coating',\n  'Pepper - Paprika, Hungarian',\n  'Longos - Grilled Chicken With',\n  'Appetizer - Sausage Rolls'],\n 85292: ['Wine - Chablis 2003 Champs',\n  'Soupfoamcont12oz 112con',\n  'Wasabi Powder',\n  'Pastry - Choclate Baked',\n  'Beer - Blue'],\n 85437: ['Wine - Ruffino Chianti',\n  'Wine - Chardonnay South',\n  'Sage - Ground',\n  'Beef Ground Medium',\n  'Cheese - Parmesan Grated'],\n 85480: ['Salmon - Atlantic, Skin On',\n  'Hot Chocolate - Individual',\n  'Skirt - 29 Foot',\n  'Jolt Cola - Electric Blue',\n  'Beans - Wax'],\n 85496: ['Bread Foccacia Whole',\n  'Papayas',\n  'Ocean Spray - Kiwi Strawberry',\n  'Sauce - Hollandaise',\n  'Cake - Box Window 10x10x2.5'],\n 85524: ['Table Cloth 81x81 White',\n  'Pail For Lid 1537',\n  'Kellogs Special K Cereal',\n  'Potatoes - Idaho 100 Count',\n  'Arizona - Green Tea'],\n 85552: ['Sage - Ground',\n  'Nantuket Peach Orange',\n  'Wine - Ruffino Chianti',\n  'Wine - Redchard Merritt',\n  'Ocean Spray - Ruby Red'],\n 85642: ['Lentils - Red, Dry',\n  'Kellogs All Bran Bars',\n  'Bouq All Italian - Primerba',\n  'Lamb - Ground',\n  'Veal - Sweetbread'],\n 85766: ['Yogurt - Blueberry, 175 Gr',\n  'Fond - Neutral',\n  'Scallops - Live In Shell',\n  'Skirt - 29 Foot',\n  'Anchovy Paste - 56 G Tube'],\n 85878: ['Cookie - Dough Variety',\n  'Beef - Ground, Extra Lean, Fresh',\n  'Muffin - Carrot Individual Wrap',\n  'Bread - Rye',\n  'Cheese - Camembert'],\n 85902: ['Soup Knorr Chili With Beans',\n  'Skirt - 29 Foot',\n  'Cattail Hearts',\n  'Bouq All Italian - Primerba',\n  'Juice - Lime'],\n 86028: ['Muffin - Zero Transfat',\n  'Brandy - Bar',\n  'Wine - Valpolicella Masi',\n  'Kellogs Special K Cereal',\n  'Muffin - Carrot Individual Wrap'],\n 86065: ['Sponge Cake Mix - Chocolate',\n  'Cheese Cloth No 100',\n  'Muffin - Carrot Individual Wrap',\n  'Milk - 2%',\n  'Pork - Belly Fresh'],\n 86111: ['Wine - White Cab Sauv.on',\n  'Beef - Montreal Smoked Brisket',\n  'Gloves - Goldtouch Disposable',\n  'Lettuce - Frisee',\n  'Soup Knorr Chili With Beans'],\n 86136: ['Fuji Apples',\n  'Crackers - Trio',\n  'Vinegar - Sherry',\n  'Salmon - Atlantic, Skin On',\n  'Ice Cream Bar - Hageen Daz To'],\n 86167: ['Crackers - Trio',\n  'Beans - Kidney White',\n  'Scallops - 10/20',\n  'Cake - Box Window 10x10x2.5',\n  'Coffee - Dark Roast'],\n 86527: ['Juice - V8 Splash',\n  'Beef Ground Medium',\n  'Muffin - Zero Transfat',\n  'Pasta - Penne, Rigate, Dry',\n  'Broom - Corn'],\n 86560: ['Lettuce - Frisee',\n  'Sunflower Seed Raw',\n  'Bread Crumbs - Panko',\n  'Cheese - Parmesan Cubes',\n  'Butter - Unsalted'],\n 86595: ['Wine - Charddonnay Errazuriz',\n  'Pastry - Butterscotch Baked',\n  'Doilies - 5, Paper',\n  'Broom - Corn',\n  'Sun - Dried Tomatoes'],\n 86625: ['Nut - Chestnuts, Whole',\n  'Wasabi Powder',\n  'Mustard - Seed',\n  'Sauce - Demi Glace',\n  'Beef - Tenderlion, Center Cut'],\n 86662: ['Apricots - Dried',\n  'Milk - 1%',\n  'Wasabi Powder',\n  'Vaccum Bag 10x13',\n  'French Pastry - Mini Chocolate'],\n 86786: ['Nantucket - Pomegranate Pear',\n  'Crush - Cream Soda',\n  'Nut - Pistachio, Shelled',\n  'Isomalt',\n  'Cheese - Mozzarella'],\n 87030: ['Sponge Cake Mix - Chocolate',\n  'Cinnamon Buns Sticky',\n  'Scallop - St. Jaques',\n  'Chicken - Leg, Boneless',\n  'Wine - Pinot Noir Latour'],\n 87228: ['Oregano - Dry, Rubbed',\n  'Sage - Ground',\n  'Scallops - Live In Shell',\n  'Yoghurt Tubes',\n  'Scallop - St. Jaques'],\n 87285: ['Veal - Brisket, Provimi,bnls',\n  'Bread - Multigrain',\n  'Coffee - Irish Cream',\n  'Cheese - Brie, Triple Creme',\n  'Longos - Chicken Wings'],\n 87303: ['Soup - Campbells Tomato Ravioli',\n  'Spinach - Baby',\n  'Placemat - Scallop, White',\n  'Papayas',\n  'Chocolate - Semi Sweet, Calets'],\n 87408: ['Ocean Spray - Ruby Red',\n  'Cheese - Wine',\n  'Beef - Chuck, Boneless',\n  'Curry Paste - Madras',\n  'Longos - Grilled Salmon With Bbq'],\n 87559: ['Soup V8 Roasted Red Pepper',\n  'Wine - Alsace Gewurztraminer',\n  'Bread - French Baquette',\n  'Pork - Back, Short Cut, Boneless',\n  'Pastry - Butterscotch Baked'],\n 87849: ['Cake - Mini Cheesecake',\n  'Potatoes - Instant, Mashed',\n  'Bread - English Muffin',\n  'Scallops - Live In Shell',\n  'Vol Au Vents'],\n 87920: ['Knife Plastic - White',\n  'Tuna - Salad Premix',\n  'Coconut - Shredded, Sweet',\n  'Beets - Mini Golden',\n  'Rosemary - Primerba, Paste'],\n 87938: ['Cassis',\n  'Pepper - Paprika, Hungarian',\n  'Apricots - Dried',\n  'Sobe - Tropical Energy',\n  'Wine - White Cab Sauv.on'],\n 87947: ['Towels - Paper / Kraft',\n  'Cocktail Napkin Blue',\n  'Sole - Dover, Whole, Fresh',\n  'Corn Meal',\n  'Turkey - Oven Roast Breast'],\n 87967: ['Pecan Raisin - Tarts',\n  'Beef Wellington',\n  'Thermometer Digital',\n  'Pepper - Paprika, Hungarian',\n  'Spinach - Baby'],\n 88159: ['Assorted Desserts',\n  'Meldea Green Tea Liquor',\n  'Shrimp - Baby, Warm Water',\n  'Nut - Chestnuts, Whole',\n  'Veal - Eye Of Round'],\n 88245: ['Bacardi Breezer - Tropical',\n  'Chips Potato All Dressed - 43g',\n  'Pate - Cognac',\n  'Lettuce - Treviso',\n  'Scallops - 10/20'],\n 88318: ['Sausage - Liver',\n  'Tomato - Tricolor Cherry',\n  'Peas - Pigeon, Dry',\n  'Lime Cordial - Roses',\n  'Veal - Eye Of Round'],\n 88533: ['Bread Fig And Almond',\n  'Sea Bass - Whole',\n  'Juice - Lime',\n  'Muffin - Zero Transfat',\n  'French Pastry - Mini Chocolate'],\n 88552: ['Apricots Fresh',\n  'Juice - Happy Planet',\n  'Puree - Passion Fruit',\n  'Garlic - Peeled',\n  'Napkin White - Starched'],\n 88733: ['Bananas',\n  'Berry Brulee',\n  'Muffin - Carrot Individual Wrap',\n  'Kellogs Special K Cereal',\n  'Brandy - Bar'],\n 88769: ['Sausage - Liver',\n  'Crackers - Trio',\n  'Spoon - Soup, Plastic',\n  'Thyme - Lemon, Fresh',\n  'Muffin Batt - Blueberry Passion'],\n 88855: ['Cheese - Cottage Cheese',\n  'Sausage - Breakfast',\n  'Milk - 1%',\n  'Pail For Lid 1537',\n  'Pepper - White, Ground'],\n 89110: ['Cornflakes',\n  'Bacardi Breezer - Tropical',\n  'Cocktail Napkin Blue',\n  'Tilapia - Fillets',\n  'Oranges - Navel, 72'],\n 89181: ['Appetizer - Mini Egg Roll, Shrimp',\n  'Onions - Cippolini',\n  'Bread - Calabrese Baguette',\n  'Liners - Banana, Paper',\n  'Blueberries'],\n 89254: ['Appetizer - Mushroom Tart',\n  'Lettuce - Spring Mix',\n  'Beer - Labatt Blue',\n  'Tilapia - Fillets',\n  'Muffin Batt - Blueberry Passion'],\n 89272: ['Muffin - Carrot Individual Wrap',\n  'Scallops 60/80 Iqf',\n  'Pastry - Choclate Baked',\n  'Bar Mix - Pina Colada, 355 Ml',\n  'Table Cloth 54x72 White'],\n 89408: ['Longos - Grilled Salmon With Bbq',\n  'Tilapia - Fillets',\n  'Napkin White - Starched',\n  'Hickory Smoke, Liquid',\n  'Wine - Chablis 2003 Champs'],\n 89424: ['Liners - Banana, Paper',\n  'Pasta - Detalini, White, Fresh',\n  'Cheese - Parmesan Cubes',\n  'Muffin - Carrot Individual Wrap',\n  'Chinese Foods - Chicken'],\n 89425: ['Tart Shells - Sweet, 4',\n  'Cheese - Cheddarsliced',\n  'Rum - Mount Gay Eclipes',\n  'Pop Shoppe Cream Soda',\n  'Beef - Top Sirloin - Aaa'],\n 89573: ['Bagel - Plain',\n  'Bread - Raisin Walnut Oval',\n  'Yogurt - Blueberry, 175 Gr',\n  'Bandage - Flexible Neon',\n  'Ketchup - Tomato'],\n 89588: ['Hickory Smoke, Liquid',\n  'Lentils - Red, Dry',\n  'Vanilla Beans',\n  'Pastry - Butterscotch Baked',\n  'Bread - French Baquette'],\n 89725: ['Bread - Multigrain',\n  'Lentils - Red, Dry',\n  'Liners - Baking Cups',\n  'French Pastry - Mini Chocolate',\n  'Beer - Blue'],\n 90054: ['Pastry - Butterscotch Baked',\n  'Bread - Calabrese Baguette',\n  'Beets - Candy Cane, Organic',\n  'Carbonated Water - Cherry',\n  'Snapple Lemon Tea'],\n 90069: ['Pastry - Cheese Baked Scones',\n  'Oil - Shortening,liqud, Fry',\n  'Wine - Charddonnay Errazuriz',\n  'Table Cloth 81x81 White',\n  'Doilies - 5, Paper'],\n 90174: ['Kellogs All Bran Bars',\n  'Tart Shells - Sweet, 4',\n  'Yoghurt Tubes',\n  'Scallops 60/80 Iqf',\n  'Lettuce - Spring Mix'],\n 90193: ['Longos - Grilled Chicken With',\n  'Pickerel - Fillets',\n  'Dc Hikiage Hira Huba',\n  'Soup V8 Roasted Red Pepper',\n  'Lamb - Ground'],\n 90284: ['Ketchup - Tomato',\n  'Soupfoamcont12oz 112con',\n  'Salmon - Atlantic, Skin On',\n  'Beer - Blue',\n  'Initation Crab Meat'],\n 90300: ['Salmon Steak - Cohoe 8 Oz',\n  'Puree - Mocha',\n  'Wine - Redchard Merritt',\n  'Milk - 1%',\n  'Chips Potato All Dressed - 43g'],\n 90347: ['Lettuce - Treviso',\n  'Vinegar - Tarragon',\n  'Halibut - Steaks',\n  'Bacardi Breezer - Tropical',\n  'Cheese - Taleggio D.o.p.'],\n 90508: ['Ice Cream Bar - Hageen Daz To',\n  'Veal - Osso Bucco',\n  'Bread - Italian Roll With Herbs',\n  'Nantucket - Pomegranate Pear',\n  'Clam Nectar'],\n 90694: ['French Pastry - Mini Chocolate',\n  'Scallops 60/80 Iqf',\n  'Meldea Green Tea Liquor',\n  'Cheese - Cheddarsliced',\n  'Appetizer - Mini Egg Roll, Shrimp'],\n 90776: ['Pickerel - Fillets',\n  'Ice Cream Bar - Drumstick',\n  'Nut - Pistachio, Shelled',\n  'Brandy - Bar',\n  'Beef - Inside Round'],\n 90777: ['Olives - Kalamata',\n  'Foam Dinner Plate',\n  'Oregano - Dry, Rubbed',\n  'Artichokes - Jerusalem',\n  'Berry Brulee'],\n 90933: ['Tomatoes Tear Drop',\n  'Bread - Multigrain',\n  'Ocean Spray - Ruby Red',\n  'Muffin Chocolate Individual Wrap',\n  'Wine - Toasted Head'],\n 91013: ['Chocolate - Dark',\n  'Sauce - Hollandaise',\n  'Banana - Leaves',\n  'Wine - Redchard Merritt',\n  'Bread Foccacia Whole'],\n 91058: ['Cocoa Butter',\n  'Cheese - Cheddarsliced',\n  'Scallops - Live In Shell',\n  'Muffin Chocolate Individual Wrap',\n  'Doilies - 5, Paper'],\n 91176: ['Foam Cup 6 Oz',\n  'Black Currants',\n  'Towels - Paper / Kraft',\n  'Baking Powder',\n  'Tray - 16in Rnd Blk'],\n 91194: ['Bread Crumbs - Japanese Style',\n  'Pork - Back, Short Cut, Boneless',\n  'Quiche Assorted',\n  'Beef - Top Sirloin',\n  'Beans - Kidney, Red Dry'],\n 91220: ['Bread - Italian Corn Meal Poly',\n  'Crackers Cheez It',\n  'Mussels - Cultivated',\n  'Sole - Dover, Whole, Fresh',\n  'Shrimp - Baby, Warm Water'],\n 91224: ['Bacardi Breezer - Tropical',\n  'Appetizer - Mini Egg Roll, Shrimp',\n  'Browning Caramel Glace',\n  'Wine - Hardys Bankside Shiraz',\n  'Potatoes - Idaho 100 Count'],\n 91443: ['Gloves - Goldtouch Disposable',\n  'Yogurt - French Vanilla',\n  'Wine - Vidal Icewine Magnotta',\n  'Isomalt',\n  'Sobe - Tropical Energy'],\n 91652: ['Pasta - Penne, Rigate, Dry',\n  'Appetizer - Sausage Rolls',\n  'Yogurt - French Vanilla',\n  'Soupfoamcont12oz 112con',\n  'Sausage - Liver'],\n 91713: ['Pears - Bosc',\n  'Doilies - 5, Paper',\n  'Snapple - Iced Tea Peach',\n  'Cheese - Boursin, Garlic / Herbs',\n  'Shrimp - 31/40'],\n 91777: ['Beef - Prime Rib Aaa',\n  'Wine - Redchard Merritt',\n  'Water, Tap',\n  'Tia Maria',\n  'Ice Cream Bar - Drumstick'],\n 91783: ['Creme De Banane - Marie',\n  'Pomello',\n  'Smirnoff Green Apple Twist',\n  'Bread - Calabrese Baguette',\n  'Bar Mix - Pina Colada, 355 Ml'],\n 92067: ['Yoghurt Tubes',\n  'Olives - Kalamata',\n  'Vinegar - Tarragon',\n  'Turkey - Whole, Fresh',\n  'Garlic - Peeled'],\n 92139: ['Pasta - Angel Hair',\n  'Scallops - Live In Shell',\n  'Lentils - Red, Dry',\n  'Bread - Roll, Canadian Dinner',\n  'Tuna - Salad Premix'],\n 92168: ['Pecan Raisin - Tarts',\n  'Bandage - Flexible Neon',\n  'Beef Wellington',\n  'Sauerkraut',\n  'Bread - Calabrese Baguette'],\n 92255: ['Mussels - Cultivated',\n  'Juice - Apple Cider',\n  'Pop Shoppe Cream Soda',\n  'Bar Mix - Pina Colada, 355 Ml',\n  'Cup - Translucent 7 Oz Clear'],\n 92418: ['Yogurt - Blueberry, 175 Gr',\n  'Pomello',\n  'Garlic - Elephant',\n  'Yogurt - French Vanilla',\n  'Langers - Ruby Red Grapfruit'],\n 92492: ['Macaroons - Two Bite Choc',\n  'Grapes - Red',\n  'Pork - Loin, Bone - In',\n  'Wine - Magnotta - Cab Sauv',\n  'Beef - Ground Medium'],\n 92525: ['Cookies Cereal Nut',\n  'Bay Leaf',\n  'Pasta - Penne, Rigate, Dry',\n  'Rabbit - Whole',\n  'Wine - Vineland Estate Semi - Dry'],\n 92543: ['Beef - Tenderlion, Center Cut',\n  'Puree - Passion Fruit',\n  'Bananas',\n  'Table Cloth 81x81 White',\n  'Potatoes - Idaho 100 Count'],\n 92594: ['Beef - Striploin Aa',\n  'Apricots - Dried',\n  'Brandy - Bar',\n  'Beef - Inside Round',\n  'Oil - Shortening - All - Purpose'],\n 92637: ['Pickerel - Fillets',\n  'Macaroons - Two Bite Choc',\n  'Salmon Steak - Cohoe 8 Oz',\n  'Wine - Valpolicella Masi',\n  'Guinea Fowl'],\n 92673: ['Sun - Dried Tomatoes',\n  'Veal - Eye Of Round',\n  'Yeast Dry - Fermipan',\n  'Rice - Jasmine Sented',\n  'Hinge W Undercut'],\n 92951: ['Chicken - Soup Base',\n  'Butter - Unsalted',\n  'Yoghurt Tubes',\n  'Hickory Smoke, Liquid',\n  'Crab - Imitation Flakes'],\n 92995: ['Ice Cream Bar - Drumstick',\n  'Cinnamon Buns Sticky',\n  'Beef - Inside Round',\n  'Scallops 60/80 Iqf',\n  'Lettuce - California Mix'],\n 93417: ['Cheese - Wine',\n  'Beer - Rickards Red',\n  'Juice - V8 Splash',\n  'Onions - Cippolini',\n  'Cocktail Napkin Blue'],\n 93445: ['Beef - Striploin Aa',\n  'Cake - Box Window 10x10x2.5',\n  'Bouq All Italian - Primerba',\n  'Pepper - Black, Whole',\n  'Pernod'],\n 93505: ['French Pastry - Mini Chocolate',\n  'Pop Shoppe Cream Soda',\n  'Cheese - Camembert',\n  'Tuna - Salad Premix',\n  'Chocolate - Dark'],\n 93540: ['Gloves - Goldtouch Disposable',\n  'Cod - Black Whole Fillet',\n  'Carbonated Water - Blackcherry',\n  'Cheese - Parmesan Cubes',\n  'Chicken - Soup Base'],\n 93692: ['Garlic - Peeled',\n  'Pastry - Choclate Baked',\n  'Cassis',\n  'Soup - Campbells, Cream Of',\n  'Napkin White - Starched'],\n 93882: ['Browning Caramel Glace',\n  'Salmon - Atlantic, Skin On',\n  'Cheese - Victor Et Berthold',\n  'Lemonade - Natural, 591 Ml',\n  'Baking Powder'],\n 93918: ['Ice - Clear, 300 Lb For Carving',\n  'Jagermeister',\n  'Vinegar - Tarragon',\n  'Pork - Bacon, Double Smoked',\n  'Lemonade - Natural, 591 Ml'],\n 94258: ['Pork - Belly Fresh',\n  'Muffin - Zero Transfat',\n  'Carbonated Water - Blackcherry',\n  'Crush - Cream Soda',\n  'Tea - English Breakfast'],\n 94420: ['Crab - Imitation Flakes',\n  'Wine - White Cab Sauv.on',\n  'Lettuce - California Mix',\n  'Muffin - Zero Transfat',\n  'Rosemary - Dry'],\n 94438: ['Muffin - Carrot Individual Wrap',\n  'Soup Knorr Chili With Beans',\n  'Cinnamon Buns Sticky',\n  'Chips Potato Salt Vinegar 43g',\n  'Oregano - Dry, Rubbed'],\n 94547: ['Apricots - Halves',\n  'Olives - Kalamata',\n  'Juice - Apple Cider',\n  'Soup - Campbells, Beef Barley',\n  'Ice Cream Bar - Oreo Cone'],\n 94599: ['Juice - Happy Planet',\n  'Cake - Mini Cheesecake',\n  'Apricots Fresh',\n  'Ecolab - Solid Fusion',\n  'Beans - Kidney, Canned'],\n 94910: ['Beef - Top Sirloin - Aaa',\n  'Sun - Dried Tomatoes',\n  'Scampi Tail',\n  'Tilapia - Fillets',\n  'Banana Turning'],\n 94951: ['Cinnamon Buns Sticky',\n  'Tray - 16in Rnd Blk',\n  'Pastry - Choclate Baked',\n  'Pastry - Cheese Baked Scones',\n  'Appetizer - Mushroom Tart'],\n 95017: ['Tia Maria',\n  'Cinnamon Buns Sticky',\n  'Wine - Charddonnay Errazuriz',\n  'Longos - Grilled Salmon With Bbq',\n  'Doilies - 5, Paper'],\n 95034: ['Vinegar - Tarragon',\n  'Snapple Lemon Tea',\n  'Veal - Brisket, Provimi,bnls',\n  'Lettuce - Spring Mix',\n  'Garlic - Primerba, Paste'],\n 95059: ['Bread - Raisin Walnut Oval',\n  'Nut - Pistachio, Shelled',\n  'Veal - Brisket, Provimi,bnls',\n  'Vaccum Bag 10x13',\n  'Muffin Chocolate Individual Wrap'],\n 95078: ['Coffee Decaf Colombian',\n  'Ice Cream Bar - Hageen Daz To',\n  'Peas - Frozen',\n  'Beans - Kidney White',\n  'Tea - English Breakfast'],\n 95121: ['Wine - Vineland Estate Semi - Dry',\n  'Appetizer - Mini Egg Roll, Shrimp',\n  'Lettuce - Treviso',\n  'Table Cloth - 53x69 Colour',\n  'Apricots - Dried'],\n 95314: ['Shrimp - Baby, Warm Water',\n  'Wine - Charddonnay Errazuriz',\n  'Longos - Chicken Wings',\n  'Scallops 60/80 Iqf',\n  'Wine - Red, Cooking'],\n 95372: ['Veal - Eye Of Round',\n  'Beef - Striploin Aa',\n  'Brandy - Bar',\n  'Butter - Unsalted',\n  'Turkey - Oven Roast Breast'],\n 95819: ['Coconut - Shredded, Sweet',\n  'Cookies Cereal Nut',\n  'Longos - Chicken Wings',\n  'Cake - Mini Cheesecake',\n  'Cocoa Butter'],\n 96024: ['Dried Figs',\n  'Tia Maria',\n  'Beer - Alexander Kieths, Pale Ale',\n  'Lentils - Red, Dry',\n  'Lemonade - Natural, 591 Ml'],\n 96088: ['Extract - Lemon',\n  'Potatoes - Instant, Mashed',\n  'Peas - Pigeon, Dry',\n  'Muffin Chocolate Individual Wrap',\n  'Rum - Mount Gay Eclipes'],\n 96272: ['Bread Crumbs - Panko',\n  'Cheese - Victor Et Berthold',\n  'Guinea Fowl',\n  'Sunflower Seed Raw',\n  'Garlic - Elephant'],\n 96522: ['Tea - Jasmin Green',\n  'Bread - Italian Roll With Herbs',\n  'Fuji Apples',\n  'Pastry - Butterscotch Baked',\n  'Salmon - Atlantic, Skin On'],\n 96524: ['Ecolab - Mikroklene 4/4 L',\n  'Hickory Smoke, Liquid',\n  'Banana Turning',\n  'Beans - Kidney White',\n  'Lentils - Red, Dry'],\n 96560: ['Oregano - Dry, Rubbed',\n  'Foam Cup 6 Oz',\n  'Ocean Spray - Kiwi Strawberry',\n  'Ocean Spray - Ruby Red',\n  'Pastry - Cheese Baked Scones'],\n 96615: ['Tart Shells - Sweet, 4',\n  'Sunflower Seed Raw',\n  'Bread Foccacia Whole',\n  'Broom - Corn',\n  'Cheese - Mozzarella'],\n 96666: ['Muffin - Carrot Individual Wrap',\n  'Chinese Foods - Chicken',\n  'Pail For Lid 1537',\n  'Pasta - Detalini, White, Fresh',\n  'Skirt - 29 Foot'],\n 96684: ['Water - Green Tea Refresher',\n  'Mushroom - Trumpet, Dry',\n  'Chicken - Soup Base',\n  'Pickerel - Fillets',\n  'Peas - Pigeon, Dry'],\n 97029: ['Wine - Vidal Icewine Magnotta',\n  'Cake - Box Window 10x10x2.5',\n  'Chocolate - Dark',\n  'Muffin Chocolate Individual Wrap',\n  'Beets - Candy Cane, Organic'],\n 97052: ['Dc - Frozen Momji',\n  'Milk - 1%',\n  'Lettuce - Treviso',\n  'Chips Potato All Dressed - 43g',\n  'Bouq All Italian - Primerba'],\n 97063: ['Ecolab - Mikroklene 4/4 L',\n  'Cup - 6oz, Foam',\n  'Beans - Kidney White',\n  'Initation Crab Meat',\n  'Lettuce - California Mix'],\n 97093: ['Bar Mix - Pina Colada, 355 Ml',\n  'Lime Cordial - Roses',\n  'Banana Turning',\n  'Beer - Sleemans Cream Ale',\n  'Mushrooms - Black, Dried'],\n 97201: ['Olives - Kalamata',\n  'Tilapia - Fillets',\n  'Beans - Wax',\n  'Beef - Top Sirloin',\n  'Wine - White, Mosel Gold'],\n 97282: ['Whmis - Spray Bottle Trigger',\n  'Cornflakes',\n  'Ketchup - Tomato',\n  'Crackers - Trio',\n  'Bread - Italian Corn Meal Poly'],\n 97324: ['Bread Crumbs - Japanese Style',\n  'Bread - French Baquette',\n  'Quiche Assorted',\n  'Scallops - Live In Shell',\n  'Ocean Spray - Ruby Red'],\n 97495: ['Pork - Loin, Bone - In',\n  'Beef - Ground, Extra Lean, Fresh',\n  'Sobe - Tropical Energy',\n  'Dc Hikiage Hira Huba',\n  'Garlic - Elephant'],\n 97697: ['Lentils - Red, Dry',\n  'Cheese - Wine',\n  'Cassis',\n  'Sauce - Demi Glace',\n  'Flour - Pastry'],\n 97753: ['Muffin Batt - Choc Chk',\n  'Wine - Chablis 2003 Champs',\n  'French Pastry - Mini Chocolate',\n  'Muffin Chocolate Individual Wrap',\n  'Cheese - Boursin, Garlic / Herbs'],\n 97769: ['Sobe - Tropical Energy',\n  'Pork - Loin, Bone - In',\n  'Cake - Box Window 10x10x2.5',\n  'Garlic - Elephant',\n  'Appetizer - Mushroom Tart'],\n 97793: ['Lentils - Red, Dry',\n  'Sausage - Liver',\n  'Liners - Baking Cups',\n  'Lettuce - Frisee',\n  'Bandage - Flexible Neon'],\n 97900: ['Cup - Translucent 7 Oz Clear',\n  'Rice - Jasmine Sented',\n  'Sole - Dover, Whole, Fresh',\n  'Pork - Loin, Center Cut',\n  'Appetizer - Mini Egg Roll, Shrimp'],\n 97928: ['Beans - Kidney White',\n  'Appetizer - Mini Egg Roll, Shrimp',\n  'Pomello',\n  'Ecolab - Lime - A - Way 4/4 L',\n  'Veal - Inside, Choice'],\n 98069: ['Skirt - 29 Foot',\n  'Beans - Kidney White',\n  'Milk - 1%',\n  'Cheese - Taleggio D.o.p.',\n  'Sprouts - Baby Pea Tendrils'],\n 98159: ['Butter - Unsalted',\n  'Halibut - Steaks',\n  'Wine - Red, Harrow Estates, Cab',\n  'Ice Cream Bar - Oreo Cone',\n  'Vinegar - Tarragon'],\n 98185: ['Peas - Pigeon, Dry',\n  'Squid U5 - Thailand',\n  'Cheese - Taleggio D.o.p.',\n  'Cheese - Brie, Triple Creme',\n  'Crackers - Trio'],\n 98200: ['Hot Chocolate - Individual',\n  'Cheese - Mozzarella',\n  'Hickory Smoke, Liquid',\n  'Garlic',\n  'Cheese - Brie, Triple Creme']}"
     },
     "metadata": {},
     "execution_count": 29
    }
   ],
   "source": [
    "recomendations"
   ]
  },
  {
   "cell_type": "markdown",
   "metadata": {},
   "source": [
    "##  Step 9: Store the results in a Pandas data frame. The data frame should a column for Customer ID and then a column for each of the 5 product recommendations for each customer."
   ]
  },
  {
   "cell_type": "code",
   "execution_count": 31,
   "metadata": {
    "scrolled": true
   },
   "outputs": [
    {
     "output_type": "execute_result",
     "data": {
      "text/plain": "                           33                               200    \\\n0               Chocolate - Dark     Soup - Campbells Bean Medley   \n1   Wine - Charddonnay Errazuriz                          Pomello   \n2                       Bay Leaf                         Bay Leaf   \n3            Oranges - Navel, 72                    Pork - Kidney   \n4  Wine - Ej Gallo Sierra Valley  Muffin - Carrot Individual Wrap   \n\n                             264                           356    \\\n0         Cheese - Parmesan Grated             Butter - Unsalted   \n1                    Pork - Kidney        Pepper - White, Ground   \n2               Crush - Cream Soda  Cup - Translucent 7 Oz Clear   \n3  Soup - Campbells Tomato Ravioli                 Sage - Ground   \n4           Pepper - White, Ground   Pork - Bacon, Double Smoked   \n\n                           412                            464    \\\n0  Wine - Blue Nun Qualitatswein            Cheese - Mozzarella   \n1             Beef - Top Sirloin  Ice Cream Bar - Hageen Daz To   \n2              Butter - Unsalted          Knife Plastic - White   \n3        Table Cloth 81x81 White             Peas - Pigeon, Dry   \n4          Pepper - Black, Whole    Beets - Candy Cane, Organic   \n\n                      477                              639    \\\n0  Cheese - Parmesan Grated                    Lamb - Ground   \n1     Pepper - Black, Whole        Beef - Texas Style Burger   \n2              Sugar - Fine  Soup - Campbells Tomato Ravioli   \n3   Olive - Spread Tapenade     Veal - Brisket, Provimi,bnls   \n4           Quiche Assorted              Beets - Mini Golden   \n\n                           649                        669    ...  \\\n0          Knife Plastic - White   Cod - Black Whole Fillet  ...   \n1            Wine - Toasted Head                Beans - Wax  ...   \n2  Ice Cream Bar - Hageen Daz To      Pepper - Black, Whole  ...   \n3                  Pork - Kidney   Kellogs Special K Cereal  ...   \n4            Juice - Apple Cider  Ecolab - Mikroklene 4/4 L  ...   \n\n                97697                             97753  \\\n0  Lentils - Red, Dry            Muffin Batt - Choc Chk   \n1       Cheese - Wine        Wine - Chablis 2003 Champs   \n2              Cassis    French Pastry - Mini Chocolate   \n3  Sauce - Demi Glace  Muffin Chocolate Individual Wrap   \n4      Flour - Pastry  Cheese - Boursin, Garlic / Herbs   \n\n                         97769                    97793  \\\n0       Sobe - Tropical Energy       Lentils - Red, Dry   \n1       Pork - Loin, Bone - In          Sausage - Liver   \n2  Cake - Box Window 10x10x2.5     Liners - Baking Cups   \n3            Garlic - Elephant         Lettuce - Frisee   \n4    Appetizer - Mushroom Tart  Bandage - Flexible Neon   \n\n                               97900                              97928  \\\n0       Cup - Translucent 7 Oz Clear               Beans - Kidney White   \n1              Rice - Jasmine Sented  Appetizer - Mini Egg Roll, Shrimp   \n2         Sole - Dover, Whole, Fresh                            Pomello   \n3            Pork - Loin, Center Cut      Ecolab - Lime - A - Way 4/4 L   \n4  Appetizer - Mini Egg Roll, Shrimp              Veal - Inside, Choice   \n\n                         98069                            98159  \\\n0              Skirt - 29 Foot                Butter - Unsalted   \n1         Beans - Kidney White                 Halibut - Steaks   \n2                    Milk - 1%  Wine - Red, Harrow Estates, Cab   \n3     Cheese - Taleggio D.o.p.        Ice Cream Bar - Oreo Cone   \n4  Sprouts - Baby Pea Tendrils               Vinegar - Tarragon   \n\n                         98185                        98200  \n0           Peas - Pigeon, Dry   Hot Chocolate - Individual  \n1          Squid U5 - Thailand          Cheese - Mozzarella  \n2     Cheese - Taleggio D.o.p.        Hickory Smoke, Liquid  \n3  Cheese - Brie, Triple Creme                       Garlic  \n4              Crackers - Trio  Cheese - Brie, Triple Creme  \n\n[5 rows x 1000 columns]",
      "text/html": "<div>\n<style scoped>\n    .dataframe tbody tr th:only-of-type {\n        vertical-align: middle;\n    }\n\n    .dataframe tbody tr th {\n        vertical-align: top;\n    }\n\n    .dataframe thead th {\n        text-align: right;\n    }\n</style>\n<table border=\"1\" class=\"dataframe\">\n  <thead>\n    <tr style=\"text-align: right;\">\n      <th></th>\n      <th>33</th>\n      <th>200</th>\n      <th>264</th>\n      <th>356</th>\n      <th>412</th>\n      <th>464</th>\n      <th>477</th>\n      <th>639</th>\n      <th>649</th>\n      <th>669</th>\n      <th>...</th>\n      <th>97697</th>\n      <th>97753</th>\n      <th>97769</th>\n      <th>97793</th>\n      <th>97900</th>\n      <th>97928</th>\n      <th>98069</th>\n      <th>98159</th>\n      <th>98185</th>\n      <th>98200</th>\n    </tr>\n  </thead>\n  <tbody>\n    <tr>\n      <th>0</th>\n      <td>Chocolate - Dark</td>\n      <td>Soup - Campbells Bean Medley</td>\n      <td>Cheese - Parmesan Grated</td>\n      <td>Butter - Unsalted</td>\n      <td>Wine - Blue Nun Qualitatswein</td>\n      <td>Cheese - Mozzarella</td>\n      <td>Cheese - Parmesan Grated</td>\n      <td>Lamb - Ground</td>\n      <td>Knife Plastic - White</td>\n      <td>Cod - Black Whole Fillet</td>\n      <td>...</td>\n      <td>Lentils - Red, Dry</td>\n      <td>Muffin Batt - Choc Chk</td>\n      <td>Sobe - Tropical Energy</td>\n      <td>Lentils - Red, Dry</td>\n      <td>Cup - Translucent 7 Oz Clear</td>\n      <td>Beans - Kidney White</td>\n      <td>Skirt - 29 Foot</td>\n      <td>Butter - Unsalted</td>\n      <td>Peas - Pigeon, Dry</td>\n      <td>Hot Chocolate - Individual</td>\n    </tr>\n    <tr>\n      <th>1</th>\n      <td>Wine - Charddonnay Errazuriz</td>\n      <td>Pomello</td>\n      <td>Pork - Kidney</td>\n      <td>Pepper - White, Ground</td>\n      <td>Beef - Top Sirloin</td>\n      <td>Ice Cream Bar - Hageen Daz To</td>\n      <td>Pepper - Black, Whole</td>\n      <td>Beef - Texas Style Burger</td>\n      <td>Wine - Toasted Head</td>\n      <td>Beans - Wax</td>\n      <td>...</td>\n      <td>Cheese - Wine</td>\n      <td>Wine - Chablis 2003 Champs</td>\n      <td>Pork - Loin, Bone - In</td>\n      <td>Sausage - Liver</td>\n      <td>Rice - Jasmine Sented</td>\n      <td>Appetizer - Mini Egg Roll, Shrimp</td>\n      <td>Beans - Kidney White</td>\n      <td>Halibut - Steaks</td>\n      <td>Squid U5 - Thailand</td>\n      <td>Cheese - Mozzarella</td>\n    </tr>\n    <tr>\n      <th>2</th>\n      <td>Bay Leaf</td>\n      <td>Bay Leaf</td>\n      <td>Crush - Cream Soda</td>\n      <td>Cup - Translucent 7 Oz Clear</td>\n      <td>Butter - Unsalted</td>\n      <td>Knife Plastic - White</td>\n      <td>Sugar - Fine</td>\n      <td>Soup - Campbells Tomato Ravioli</td>\n      <td>Ice Cream Bar - Hageen Daz To</td>\n      <td>Pepper - Black, Whole</td>\n      <td>...</td>\n      <td>Cassis</td>\n      <td>French Pastry - Mini Chocolate</td>\n      <td>Cake - Box Window 10x10x2.5</td>\n      <td>Liners - Baking Cups</td>\n      <td>Sole - Dover, Whole, Fresh</td>\n      <td>Pomello</td>\n      <td>Milk - 1%</td>\n      <td>Wine - Red, Harrow Estates, Cab</td>\n      <td>Cheese - Taleggio D.o.p.</td>\n      <td>Hickory Smoke, Liquid</td>\n    </tr>\n    <tr>\n      <th>3</th>\n      <td>Oranges - Navel, 72</td>\n      <td>Pork - Kidney</td>\n      <td>Soup - Campbells Tomato Ravioli</td>\n      <td>Sage - Ground</td>\n      <td>Table Cloth 81x81 White</td>\n      <td>Peas - Pigeon, Dry</td>\n      <td>Olive - Spread Tapenade</td>\n      <td>Veal - Brisket, Provimi,bnls</td>\n      <td>Pork - Kidney</td>\n      <td>Kellogs Special K Cereal</td>\n      <td>...</td>\n      <td>Sauce - Demi Glace</td>\n      <td>Muffin Chocolate Individual Wrap</td>\n      <td>Garlic - Elephant</td>\n      <td>Lettuce - Frisee</td>\n      <td>Pork - Loin, Center Cut</td>\n      <td>Ecolab - Lime - A - Way 4/4 L</td>\n      <td>Cheese - Taleggio D.o.p.</td>\n      <td>Ice Cream Bar - Oreo Cone</td>\n      <td>Cheese - Brie, Triple Creme</td>\n      <td>Garlic</td>\n    </tr>\n    <tr>\n      <th>4</th>\n      <td>Wine - Ej Gallo Sierra Valley</td>\n      <td>Muffin - Carrot Individual Wrap</td>\n      <td>Pepper - White, Ground</td>\n      <td>Pork - Bacon, Double Smoked</td>\n      <td>Pepper - Black, Whole</td>\n      <td>Beets - Candy Cane, Organic</td>\n      <td>Quiche Assorted</td>\n      <td>Beets - Mini Golden</td>\n      <td>Juice - Apple Cider</td>\n      <td>Ecolab - Mikroklene 4/4 L</td>\n      <td>...</td>\n      <td>Flour - Pastry</td>\n      <td>Cheese - Boursin, Garlic / Herbs</td>\n      <td>Appetizer - Mushroom Tart</td>\n      <td>Bandage - Flexible Neon</td>\n      <td>Appetizer - Mini Egg Roll, Shrimp</td>\n      <td>Veal - Inside, Choice</td>\n      <td>Sprouts - Baby Pea Tendrils</td>\n      <td>Vinegar - Tarragon</td>\n      <td>Crackers - Trio</td>\n      <td>Cheese - Brie, Triple Creme</td>\n    </tr>\n  </tbody>\n</table>\n<p>5 rows × 1000 columns</p>\n</div>"
     },
     "metadata": {},
     "execution_count": 31
    }
   ],
   "source": [
    "recomendations = pd.DataFrame(recomendations)\n",
    "recomendations"
   ]
  },
  {
   "cell_type": "markdown",
   "metadata": {},
   "source": [
    "## Step 10: Change the distance metric used in Step 3 to something other than euclidean (correlation, cityblock, consine, jaccard, etc.). Regenerate the recommendations for all customers and note the differences."
   ]
  },
  {
   "cell_type": "code",
   "execution_count": 32,
   "metadata": {},
   "outputs": [
    {
     "output_type": "execute_result",
     "data": {
      "text/plain": "                        33                                 200    \\\n0  Rosemary - Primerba, Paste                Pasta - Orecchiette   \n1                  Cornflakes  Pasta - Cheese / Spinach Bauletti   \n2           Beef - Short Loin            General Purpose Trigger   \n3         Juice - Apple Cider       Langers - Ruby Red Grapfruit   \n4     Chinese Foods - Chicken                   Apricots - Dried   \n\n                         264                         356    \\\n0     Water - Mineral, Natural  Yogurt - Blueberry, 175 Gr   \n1            Chicken - Wieners    Water - Mineral, Natural   \n2       Cookie - Dough Variety     Rum - Mount Gay Eclipes   \n3          Lamb - Whole, Fresh                Durian Fruit   \n4  Cake - Box Window 10x10x2.5    Cod - Black Whole Fillet   \n\n                           412                         464    \\\n0         Muffin Mix - Blueberry  Turkey - Oven Roast Breast   \n1              Sprouts - Alfalfa       Knife Plastic - White   \n2                Crackers - Trio     Meldea Green Tea Liquor   \n3  Wine - Hardys Bankside Shiraz        Bread - Bistro White   \n4                        Pomello  Wine - Magnotta - Belpaese   \n\n                  477                               639    \\\n0        Fenngreek Seed            Pepper - White, Ground   \n1  Lettuce - Spring Mix  Pail With Metal Handle 16l White   \n2      Vinegar - Sherry                  Apricots - Dried   \n3         Veal - Inside   Wine - Red, Harrow Estates, Cab   \n4                  Kiwi       Oil - Shortening,liqud, Fry   \n\n                              649                         669    ...  \\\n0  Wine - White, Schroder And Schyl         Tuna - Salad Premix  ...   \n1            Muffin Mix - Blueberry           Pail For Lid 1537  ...   \n2       Cheese - Victor Et Berthold    Cod - Black Whole Fillet  ...   \n3                  Salsify, Organic  Smirnoff Green Apple Twist  ...   \n4            Browning Caramel Glace         Beer - Rickards Red  ...   \n\n                 97697                        97753                     97769  \\\n0       Apricots Fresh     Wine - Fume Blanc Fetzer         Veal - Sweetbread   \n1  Juice - Apple Cider    Carbonated Water - Cherry  Wine - White, Mosel Gold   \n2        Cumin - Whole  Cheese - Victor Et Berthold  Wine - Pinot Noir Latour   \n3  Squid U5 - Thailand        Rice - Jasmine Sented              Flour - Teff   \n4        Chef Hat 20cm                 Blackberries     Rum - Coconut, Malibu   \n\n                              97793                        97900  \\\n0  Beef - Ground, Extra Lean, Fresh     Wine - White Cab Sauv.on   \n1                            Cassis            Dc - Frozen Momji   \n2             Spoon - Soup, Plastic         Lime Cordial - Roses   \n3       Cake - Box Window 10x10x2.5          Beef - Striploin Aa   \n4               Beets - Mini Golden  Oil - Shortening,liqud, Fry   \n\n                        97928                         98069  \\\n0         Wine - Red, Cooking  Soup - Canadian Pea, Dry Mix   \n1                     Papayas       Mushroom - Trumpet, Dry   \n2       Nantuket Peach Orange        Sobe - Tropical Energy   \n3        Lime Cordial - Roses          Beans - Kidney White   \n4  Yogurt - Blueberry, 175 Gr              Onions - Vidalia   \n\n                        98159                     98185  \\\n0        Curry Paste - Madras             Duck - Breast   \n1  Cookie Chocolate Chip With  Cheese - Taleggio D.o.p.   \n2         Flour - Whole Wheat   Cheese - Parmesan Cubes   \n3             Banana - Leaves     Cookie Dough - Double   \n4       Bandage - Fexible 1x3       Squid U5 - Thailand   \n\n                       98200  \n0  Carbonated Water - Cherry  \n1             Juice - Orange  \n2   Table Cloth 62x114 White  \n3   Nut - Pistachio, Shelled  \n4       Lime Cordial - Roses  \n\n[5 rows x 1000 columns]",
      "text/html": "<div>\n<style scoped>\n    .dataframe tbody tr th:only-of-type {\n        vertical-align: middle;\n    }\n\n    .dataframe tbody tr th {\n        vertical-align: top;\n    }\n\n    .dataframe thead th {\n        text-align: right;\n    }\n</style>\n<table border=\"1\" class=\"dataframe\">\n  <thead>\n    <tr style=\"text-align: right;\">\n      <th></th>\n      <th>33</th>\n      <th>200</th>\n      <th>264</th>\n      <th>356</th>\n      <th>412</th>\n      <th>464</th>\n      <th>477</th>\n      <th>639</th>\n      <th>649</th>\n      <th>669</th>\n      <th>...</th>\n      <th>97697</th>\n      <th>97753</th>\n      <th>97769</th>\n      <th>97793</th>\n      <th>97900</th>\n      <th>97928</th>\n      <th>98069</th>\n      <th>98159</th>\n      <th>98185</th>\n      <th>98200</th>\n    </tr>\n  </thead>\n  <tbody>\n    <tr>\n      <th>0</th>\n      <td>Rosemary - Primerba, Paste</td>\n      <td>Pasta - Orecchiette</td>\n      <td>Water - Mineral, Natural</td>\n      <td>Yogurt - Blueberry, 175 Gr</td>\n      <td>Muffin Mix - Blueberry</td>\n      <td>Turkey - Oven Roast Breast</td>\n      <td>Fenngreek Seed</td>\n      <td>Pepper - White, Ground</td>\n      <td>Wine - White, Schroder And Schyl</td>\n      <td>Tuna - Salad Premix</td>\n      <td>...</td>\n      <td>Apricots Fresh</td>\n      <td>Wine - Fume Blanc Fetzer</td>\n      <td>Veal - Sweetbread</td>\n      <td>Beef - Ground, Extra Lean, Fresh</td>\n      <td>Wine - White Cab Sauv.on</td>\n      <td>Wine - Red, Cooking</td>\n      <td>Soup - Canadian Pea, Dry Mix</td>\n      <td>Curry Paste - Madras</td>\n      <td>Duck - Breast</td>\n      <td>Carbonated Water - Cherry</td>\n    </tr>\n    <tr>\n      <th>1</th>\n      <td>Cornflakes</td>\n      <td>Pasta - Cheese / Spinach Bauletti</td>\n      <td>Chicken - Wieners</td>\n      <td>Water - Mineral, Natural</td>\n      <td>Sprouts - Alfalfa</td>\n      <td>Knife Plastic - White</td>\n      <td>Lettuce - Spring Mix</td>\n      <td>Pail With Metal Handle 16l White</td>\n      <td>Muffin Mix - Blueberry</td>\n      <td>Pail For Lid 1537</td>\n      <td>...</td>\n      <td>Juice - Apple Cider</td>\n      <td>Carbonated Water - Cherry</td>\n      <td>Wine - White, Mosel Gold</td>\n      <td>Cassis</td>\n      <td>Dc - Frozen Momji</td>\n      <td>Papayas</td>\n      <td>Mushroom - Trumpet, Dry</td>\n      <td>Cookie Chocolate Chip With</td>\n      <td>Cheese - Taleggio D.o.p.</td>\n      <td>Juice - Orange</td>\n    </tr>\n    <tr>\n      <th>2</th>\n      <td>Beef - Short Loin</td>\n      <td>General Purpose Trigger</td>\n      <td>Cookie - Dough Variety</td>\n      <td>Rum - Mount Gay Eclipes</td>\n      <td>Crackers - Trio</td>\n      <td>Meldea Green Tea Liquor</td>\n      <td>Vinegar - Sherry</td>\n      <td>Apricots - Dried</td>\n      <td>Cheese - Victor Et Berthold</td>\n      <td>Cod - Black Whole Fillet</td>\n      <td>...</td>\n      <td>Cumin - Whole</td>\n      <td>Cheese - Victor Et Berthold</td>\n      <td>Wine - Pinot Noir Latour</td>\n      <td>Spoon - Soup, Plastic</td>\n      <td>Lime Cordial - Roses</td>\n      <td>Nantuket Peach Orange</td>\n      <td>Sobe - Tropical Energy</td>\n      <td>Flour - Whole Wheat</td>\n      <td>Cheese - Parmesan Cubes</td>\n      <td>Table Cloth 62x114 White</td>\n    </tr>\n    <tr>\n      <th>3</th>\n      <td>Juice - Apple Cider</td>\n      <td>Langers - Ruby Red Grapfruit</td>\n      <td>Lamb - Whole, Fresh</td>\n      <td>Durian Fruit</td>\n      <td>Wine - Hardys Bankside Shiraz</td>\n      <td>Bread - Bistro White</td>\n      <td>Veal - Inside</td>\n      <td>Wine - Red, Harrow Estates, Cab</td>\n      <td>Salsify, Organic</td>\n      <td>Smirnoff Green Apple Twist</td>\n      <td>...</td>\n      <td>Squid U5 - Thailand</td>\n      <td>Rice - Jasmine Sented</td>\n      <td>Flour - Teff</td>\n      <td>Cake - Box Window 10x10x2.5</td>\n      <td>Beef - Striploin Aa</td>\n      <td>Lime Cordial - Roses</td>\n      <td>Beans - Kidney White</td>\n      <td>Banana - Leaves</td>\n      <td>Cookie Dough - Double</td>\n      <td>Nut - Pistachio, Shelled</td>\n    </tr>\n    <tr>\n      <th>4</th>\n      <td>Chinese Foods - Chicken</td>\n      <td>Apricots - Dried</td>\n      <td>Cake - Box Window 10x10x2.5</td>\n      <td>Cod - Black Whole Fillet</td>\n      <td>Pomello</td>\n      <td>Wine - Magnotta - Belpaese</td>\n      <td>Kiwi</td>\n      <td>Oil - Shortening,liqud, Fry</td>\n      <td>Browning Caramel Glace</td>\n      <td>Beer - Rickards Red</td>\n      <td>...</td>\n      <td>Chef Hat 20cm</td>\n      <td>Blackberries</td>\n      <td>Rum - Coconut, Malibu</td>\n      <td>Beets - Mini Golden</td>\n      <td>Oil - Shortening,liqud, Fry</td>\n      <td>Yogurt - Blueberry, 175 Gr</td>\n      <td>Onions - Vidalia</td>\n      <td>Bandage - Fexible 1x3</td>\n      <td>Squid U5 - Thailand</td>\n      <td>Lime Cordial - Roses</td>\n    </tr>\n  </tbody>\n</table>\n<p>5 rows × 1000 columns</p>\n</div>"
     },
     "metadata": {},
     "execution_count": 32
    }
   ],
   "source": [
    "distances = pd.DataFrame(1/(1 + squareform(pdist(product_matrix.T, 'correlation'))), index=product_matrix.columns, columns=product_matrix.columns)\n",
    "\n",
    "for client in product_matrix.columns:\n",
    "    recomendation(client)\n",
    "\n",
    "recomendations = pd.DataFrame(recomendations)\n",
    "recomendations"
   ]
  },
  {
   "cell_type": "code",
   "execution_count": null,
   "metadata": {},
   "outputs": [],
   "source": []
  }
 ],
 "metadata": {
  "kernelspec": {
   "display_name": "Python 3.7.6 64-bit ('anaconda3': virtualenv)",
   "language": "python",
   "name": "python37664bitanaconda3virtualenv0697af1ee67a458e9253591065064715"
  },
  "language_info": {
   "codemirror_mode": {
    "name": "ipython",
    "version": 3
   },
   "file_extension": ".py",
   "mimetype": "text/x-python",
   "name": "python",
   "nbconvert_exporter": "python",
   "pygments_lexer": "ipython3",
   "version": "3.7.6-final"
  }
 },
 "nbformat": 4,
 "nbformat_minor": 2
}