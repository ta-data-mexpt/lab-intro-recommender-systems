{
 "cells": [
  {
   "cell_type": "markdown",
   "metadata": {},
   "source": [
    "# Intro to Recommender Systems Lab\n",
    "\n",
    "Complete the exercises below to solidify your knowledge and understanding of recommender systems.\n",
    "\n",
    "For this lab, we are going to be putting together a user similarity based recommender system in a step-by-step fashion. Our data set contains customer grocery purchases, and we will use similar purchase behavior to inform our recommender system. Our recommender system will generate 5 recommendations for each customer based on the purchases they have made."
   ]
  },
  {
   "cell_type": "code",
   "execution_count": 1,
   "metadata": {},
   "outputs": [],
   "source": [
    "import pandas as pd\n",
    "import numpy as np\n",
    "\n",
    "import matplotlib.pyplot as plt\n",
    "from scipy.spatial.distance import pdist, squareform\n",
    "\n",
    "from collections import defaultdict\n",
    "\n",
    "import itertools"
   ]
  },
  {
   "cell_type": "code",
   "execution_count": 2,
   "metadata": {},
   "outputs": [],
   "source": [
    "data = pd.read_csv('../data/customer_product_sales.csv')"
   ]
  },
  {
   "cell_type": "code",
   "execution_count": 3,
   "metadata": {},
   "outputs": [
    {
     "data": {
      "text/html": [
       "<div>\n",
       "<style scoped>\n",
       "    .dataframe tbody tr th:only-of-type {\n",
       "        vertical-align: middle;\n",
       "    }\n",
       "\n",
       "    .dataframe tbody tr th {\n",
       "        vertical-align: top;\n",
       "    }\n",
       "\n",
       "    .dataframe thead th {\n",
       "        text-align: right;\n",
       "    }\n",
       "</style>\n",
       "<table border=\"1\" class=\"dataframe\">\n",
       "  <thead>\n",
       "    <tr style=\"text-align: right;\">\n",
       "      <th></th>\n",
       "      <th>CustomerID</th>\n",
       "      <th>FirstName</th>\n",
       "      <th>LastName</th>\n",
       "      <th>SalesID</th>\n",
       "      <th>ProductID</th>\n",
       "      <th>ProductName</th>\n",
       "      <th>Quantity</th>\n",
       "    </tr>\n",
       "  </thead>\n",
       "  <tbody>\n",
       "    <tr>\n",
       "      <th>0</th>\n",
       "      <td>61288</td>\n",
       "      <td>Rosa</td>\n",
       "      <td>Andersen</td>\n",
       "      <td>134196</td>\n",
       "      <td>229</td>\n",
       "      <td>Bread - Hot Dog Buns</td>\n",
       "      <td>16</td>\n",
       "    </tr>\n",
       "    <tr>\n",
       "      <th>1</th>\n",
       "      <td>77352</td>\n",
       "      <td>Myron</td>\n",
       "      <td>Murray</td>\n",
       "      <td>6167892</td>\n",
       "      <td>229</td>\n",
       "      <td>Bread - Hot Dog Buns</td>\n",
       "      <td>20</td>\n",
       "    </tr>\n",
       "    <tr>\n",
       "      <th>2</th>\n",
       "      <td>40094</td>\n",
       "      <td>Susan</td>\n",
       "      <td>Stevenson</td>\n",
       "      <td>5970885</td>\n",
       "      <td>229</td>\n",
       "      <td>Bread - Hot Dog Buns</td>\n",
       "      <td>11</td>\n",
       "    </tr>\n",
       "    <tr>\n",
       "      <th>3</th>\n",
       "      <td>23548</td>\n",
       "      <td>Tricia</td>\n",
       "      <td>Vincent</td>\n",
       "      <td>6426954</td>\n",
       "      <td>229</td>\n",
       "      <td>Bread - Hot Dog Buns</td>\n",
       "      <td>6</td>\n",
       "    </tr>\n",
       "    <tr>\n",
       "      <th>4</th>\n",
       "      <td>78981</td>\n",
       "      <td>Scott</td>\n",
       "      <td>Burch</td>\n",
       "      <td>819094</td>\n",
       "      <td>229</td>\n",
       "      <td>Bread - Hot Dog Buns</td>\n",
       "      <td>20</td>\n",
       "    </tr>\n",
       "  </tbody>\n",
       "</table>\n",
       "</div>"
      ],
      "text/plain": [
       "   CustomerID FirstName   LastName  SalesID  ProductID           ProductName  \\\n",
       "0       61288      Rosa   Andersen   134196        229  Bread - Hot Dog Buns   \n",
       "1       77352     Myron     Murray  6167892        229  Bread - Hot Dog Buns   \n",
       "2       40094     Susan  Stevenson  5970885        229  Bread - Hot Dog Buns   \n",
       "3       23548    Tricia    Vincent  6426954        229  Bread - Hot Dog Buns   \n",
       "4       78981     Scott      Burch   819094        229  Bread - Hot Dog Buns   \n",
       "\n",
       "   Quantity  \n",
       "0        16  \n",
       "1        20  \n",
       "2        11  \n",
       "3         6  \n",
       "4        20  "
      ]
     },
     "execution_count": 3,
     "metadata": {},
     "output_type": "execute_result"
    }
   ],
   "source": [
    "data.head()"
   ]
  },
  {
   "cell_type": "markdown",
   "metadata": {},
   "source": [
    "## Step 1: Create a data frame that contains the total quantity of each product purchased by each customer.\n",
    "\n",
    "You will need to group by CustomerID and ProductName and then sum the Quantity field."
   ]
  },
  {
   "cell_type": "code",
   "execution_count": 4,
   "metadata": {},
   "outputs": [
    {
     "data": {
      "text/html": [
       "<div>\n",
       "<style scoped>\n",
       "    .dataframe tbody tr th:only-of-type {\n",
       "        vertical-align: middle;\n",
       "    }\n",
       "\n",
       "    .dataframe tbody tr th {\n",
       "        vertical-align: top;\n",
       "    }\n",
       "\n",
       "    .dataframe thead th {\n",
       "        text-align: right;\n",
       "    }\n",
       "</style>\n",
       "<table border=\"1\" class=\"dataframe\">\n",
       "  <thead>\n",
       "    <tr style=\"text-align: right;\">\n",
       "      <th></th>\n",
       "      <th></th>\n",
       "      <th>Quantity</th>\n",
       "    </tr>\n",
       "    <tr>\n",
       "      <th>CustomerID</th>\n",
       "      <th>ProductName</th>\n",
       "      <th></th>\n",
       "    </tr>\n",
       "  </thead>\n",
       "  <tbody>\n",
       "    <tr>\n",
       "      <th>61288</th>\n",
       "      <th>Bread - Hot Dog Buns</th>\n",
       "      <td>16</td>\n",
       "    </tr>\n",
       "    <tr>\n",
       "      <th>77352</th>\n",
       "      <th>Bread - Hot Dog Buns</th>\n",
       "      <td>20</td>\n",
       "    </tr>\n",
       "    <tr>\n",
       "      <th>40094</th>\n",
       "      <th>Bread - Hot Dog Buns</th>\n",
       "      <td>11</td>\n",
       "    </tr>\n",
       "    <tr>\n",
       "      <th>23548</th>\n",
       "      <th>Bread - Hot Dog Buns</th>\n",
       "      <td>6</td>\n",
       "    </tr>\n",
       "    <tr>\n",
       "      <th>78981</th>\n",
       "      <th>Bread - Hot Dog Buns</th>\n",
       "      <td>20</td>\n",
       "    </tr>\n",
       "  </tbody>\n",
       "</table>\n",
       "</div>"
      ],
      "text/plain": [
       "                                 Quantity\n",
       "CustomerID ProductName                   \n",
       "61288      Bread - Hot Dog Buns        16\n",
       "77352      Bread - Hot Dog Buns        20\n",
       "40094      Bread - Hot Dog Buns        11\n",
       "23548      Bread - Hot Dog Buns         6\n",
       "78981      Bread - Hot Dog Buns        20"
      ]
     },
     "execution_count": 4,
     "metadata": {},
     "output_type": "execute_result"
    }
   ],
   "source": [
    "data_1 = data.groupby(by=[data['CustomerID'], data['ProductName']], \n",
    "                      sort = False).agg({'Quantity':'sum'})\n",
    "\n",
    "data_1.head()"
   ]
  },
  {
   "cell_type": "markdown",
   "metadata": {},
   "source": [
    "## Step 2: Use the `pivot_table` method to create a product by customer matrix.\n",
    "\n",
    "The rows of the matrix should represent the products, the columns should represent the customers, and the values should be the quantities of each product purchased by each customer. You will also need to replace nulls with zeros, which you can do using the `fillna` method."
   ]
  },
  {
   "cell_type": "code",
   "execution_count": 5,
   "metadata": {},
   "outputs": [],
   "source": [
    "data_2 = pd.pivot_table(data, \n",
    "                        index = ['ProductID', 'ProductName'], \n",
    "                        columns = 'CustomerID', \n",
    "                        values = 'Quantity', \n",
    "                        fill_value = 0)"
   ]
  },
  {
   "cell_type": "markdown",
   "metadata": {},
   "source": [
    "## Step 3: Create a customer similarity matrix using `squareform` and `pdist`. For the distance metric, choose \"euclidean.\""
   ]
  },
  {
   "cell_type": "code",
   "execution_count": 6,
   "metadata": {},
   "outputs": [],
   "source": [
    "# squareform: Convert a vector-form distance vector to a square-form distance matrix, and vice-versa.\n",
    "# pdist: Pairwise distances between observations in n-dimensional space.\n",
    "\n",
    "distances = pd.DataFrame(1/(1 + squareform(pdist(data_2.T, 'euclidean'))), \n",
    "                        index = data_2.columns, columns = data_2.columns)"
   ]
  },
  {
   "cell_type": "markdown",
   "metadata": {},
   "source": [
    "## Step 4: Check your results by generating a list of the top 5 most similar customers for a specific CustomerID."
   ]
  },
  {
   "cell_type": "code",
   "execution_count": 7,
   "metadata": {},
   "outputs": [
    {
     "data": {
      "text/plain": [
       "[3909, 264, 3531, 2503, 3305, 1577]"
      ]
     },
     "execution_count": 7,
     "metadata": {},
     "output_type": "execute_result"
    }
   ],
   "source": [
    "similarities = distances[33].sort_values(ascending=False)[1:7]\n",
    "s_l = list(similarities.index)\n",
    "s_l"
   ]
  },
  {
   "cell_type": "markdown",
   "metadata": {},
   "source": [
    "## Step 5: From the data frame you created in Step 1, select the records for the list of similar CustomerIDs you obtained in Step 4."
   ]
  },
  {
   "cell_type": "code",
   "execution_count": 8,
   "metadata": {},
   "outputs": [],
   "source": [
    "data_3 = data_1.reset_index()\n",
    "data_3_1 = data_3.CustomerID.isin(s_l)\n",
    "data_3 = data_3[data_3_1]"
   ]
  },
  {
   "cell_type": "code",
   "execution_count": 9,
   "metadata": {},
   "outputs": [],
   "source": [
    "data_3 = data_3.groupby(by = [data_3['CustomerID'], data_3['ProductName']]).agg({'Quantity' : 'sum'})"
   ]
  },
  {
   "cell_type": "code",
   "execution_count": 10,
   "metadata": {},
   "outputs": [
    {
     "data": {
      "text/html": [
       "<div>\n",
       "<style scoped>\n",
       "    .dataframe tbody tr th:only-of-type {\n",
       "        vertical-align: middle;\n",
       "    }\n",
       "\n",
       "    .dataframe tbody tr th {\n",
       "        vertical-align: top;\n",
       "    }\n",
       "\n",
       "    .dataframe thead th {\n",
       "        text-align: right;\n",
       "    }\n",
       "</style>\n",
       "<table border=\"1\" class=\"dataframe\">\n",
       "  <thead>\n",
       "    <tr style=\"text-align: right;\">\n",
       "      <th></th>\n",
       "      <th></th>\n",
       "      <th>Quantity</th>\n",
       "    </tr>\n",
       "    <tr>\n",
       "      <th>CustomerID</th>\n",
       "      <th>ProductName</th>\n",
       "      <th></th>\n",
       "    </tr>\n",
       "  </thead>\n",
       "  <tbody>\n",
       "    <tr>\n",
       "      <th rowspan=\"5\" valign=\"top\">264</th>\n",
       "      <th>Apricots - Halves</th>\n",
       "      <td>1</td>\n",
       "    </tr>\n",
       "    <tr>\n",
       "      <th>Apricots Fresh</th>\n",
       "      <td>1</td>\n",
       "    </tr>\n",
       "    <tr>\n",
       "      <th>Bacardi Breezer - Tropical</th>\n",
       "      <td>1</td>\n",
       "    </tr>\n",
       "    <tr>\n",
       "      <th>Bagel - Plain</th>\n",
       "      <td>1</td>\n",
       "    </tr>\n",
       "    <tr>\n",
       "      <th>Banana - Leaves</th>\n",
       "      <td>1</td>\n",
       "    </tr>\n",
       "    <tr>\n",
       "      <th>...</th>\n",
       "      <th>...</th>\n",
       "      <td>...</td>\n",
       "    </tr>\n",
       "    <tr>\n",
       "      <th rowspan=\"5\" valign=\"top\">3909</th>\n",
       "      <th>Wine - Charddonnay Errazuriz</th>\n",
       "      <td>2</td>\n",
       "    </tr>\n",
       "    <tr>\n",
       "      <th>Wine - Fume Blanc Fetzer</th>\n",
       "      <td>1</td>\n",
       "    </tr>\n",
       "    <tr>\n",
       "      <th>Wine - Magnotta, Merlot Sr Vqa</th>\n",
       "      <td>1</td>\n",
       "    </tr>\n",
       "    <tr>\n",
       "      <th>Wine - Toasted Head</th>\n",
       "      <td>1</td>\n",
       "    </tr>\n",
       "    <tr>\n",
       "      <th>Wine - Valpolicella Masi</th>\n",
       "      <td>1</td>\n",
       "    </tr>\n",
       "  </tbody>\n",
       "</table>\n",
       "<p>349 rows × 1 columns</p>\n",
       "</div>"
      ],
      "text/plain": [
       "                                           Quantity\n",
       "CustomerID ProductName                             \n",
       "264        Apricots - Halves                      1\n",
       "           Apricots Fresh                         1\n",
       "           Bacardi Breezer - Tropical             1\n",
       "           Bagel - Plain                          1\n",
       "           Banana - Leaves                        1\n",
       "...                                             ...\n",
       "3909       Wine - Charddonnay Errazuriz           2\n",
       "           Wine - Fume Blanc Fetzer               1\n",
       "           Wine - Magnotta, Merlot Sr Vqa         1\n",
       "           Wine - Toasted Head                    1\n",
       "           Wine - Valpolicella Masi               1\n",
       "\n",
       "[349 rows x 1 columns]"
      ]
     },
     "execution_count": 10,
     "metadata": {},
     "output_type": "execute_result"
    }
   ],
   "source": [
    "data_3"
   ]
  },
  {
   "cell_type": "markdown",
   "metadata": {},
   "source": [
    "## Step 6: Aggregate those customer purchase records by ProductName, sum the Quantity field, and then rank them in descending order by quantity.\n",
    "\n",
    "This will give you the total number of each product purchased by the 5 most similar customers to the customer you selected in order from most purchased to least."
   ]
  },
  {
   "cell_type": "code",
   "execution_count": 11,
   "metadata": {},
   "outputs": [],
   "source": [
    "# Reference: https://stackoverflow.com/questions/12096252/use-a-list-of-values-to-select-rows-from-a-pandas-dataframe\n",
    "'''\n",
    "data_3 = data[['CustomerID', 'ProductName', 'Quantity']]\n",
    "\n",
    "data_3 = data_3[(data_3['CustomerID'].isin(s_l) )]\n",
    "\n",
    "data_3 = data_3.groupby(by = [data_3['CustomerID'], data_3['ProductName']], \n",
    "                        as_index = 'CustomerID', \n",
    "                        sort = False).agg({'Quantity' : 'sum'})\n",
    "\n",
    "'''\n",
    "data_3 = data_3.sort_values(by = 'Quantity', ascending = False)"
   ]
  },
  {
   "cell_type": "code",
   "execution_count": 12,
   "metadata": {},
   "outputs": [
    {
     "data": {
      "text/html": [
       "<div>\n",
       "<style scoped>\n",
       "    .dataframe tbody tr th:only-of-type {\n",
       "        vertical-align: middle;\n",
       "    }\n",
       "\n",
       "    .dataframe tbody tr th {\n",
       "        vertical-align: top;\n",
       "    }\n",
       "\n",
       "    .dataframe thead th {\n",
       "        text-align: right;\n",
       "    }\n",
       "</style>\n",
       "<table border=\"1\" class=\"dataframe\">\n",
       "  <thead>\n",
       "    <tr style=\"text-align: right;\">\n",
       "      <th></th>\n",
       "      <th></th>\n",
       "      <th>Quantity</th>\n",
       "    </tr>\n",
       "    <tr>\n",
       "      <th>CustomerID</th>\n",
       "      <th>ProductName</th>\n",
       "      <th></th>\n",
       "    </tr>\n",
       "  </thead>\n",
       "  <tbody>\n",
       "    <tr>\n",
       "      <th>3531</th>\n",
       "      <th>Salsify, Organic</th>\n",
       "      <td>3</td>\n",
       "    </tr>\n",
       "    <tr>\n",
       "      <th>3909</th>\n",
       "      <th>Oranges - Navel, 72</th>\n",
       "      <td>2</td>\n",
       "    </tr>\n",
       "    <tr>\n",
       "      <th>1577</th>\n",
       "      <th>Beef - Texas Style Burger</th>\n",
       "      <td>2</td>\n",
       "    </tr>\n",
       "    <tr>\n",
       "      <th rowspan=\"2\" valign=\"top\">3531</th>\n",
       "      <th>Squid U5 - Thailand</th>\n",
       "      <td>2</td>\n",
       "    </tr>\n",
       "    <tr>\n",
       "      <th>Sunflower Seed Raw</th>\n",
       "      <td>2</td>\n",
       "    </tr>\n",
       "    <tr>\n",
       "      <th>...</th>\n",
       "      <th>...</th>\n",
       "      <td>...</td>\n",
       "    </tr>\n",
       "    <tr>\n",
       "      <th rowspan=\"4\" valign=\"top\">1577</th>\n",
       "      <th>Tray - 16in Rnd Blk</th>\n",
       "      <td>1</td>\n",
       "    </tr>\n",
       "    <tr>\n",
       "      <th>Tomatoes Tear Drop</th>\n",
       "      <td>1</td>\n",
       "    </tr>\n",
       "    <tr>\n",
       "      <th>Tea - Jasmin Green</th>\n",
       "      <td>1</td>\n",
       "    </tr>\n",
       "    <tr>\n",
       "      <th>Table Cloth 54x72 White</th>\n",
       "      <td>1</td>\n",
       "    </tr>\n",
       "    <tr>\n",
       "      <th>3909</th>\n",
       "      <th>Wine - Valpolicella Masi</th>\n",
       "      <td>1</td>\n",
       "    </tr>\n",
       "  </tbody>\n",
       "</table>\n",
       "<p>349 rows × 1 columns</p>\n",
       "</div>"
      ],
      "text/plain": [
       "                                      Quantity\n",
       "CustomerID ProductName                        \n",
       "3531       Salsify, Organic                  3\n",
       "3909       Oranges - Navel, 72               2\n",
       "1577       Beef - Texas Style Burger         2\n",
       "3531       Squid U5 - Thailand               2\n",
       "           Sunflower Seed Raw                2\n",
       "...                                        ...\n",
       "1577       Tray - 16in Rnd Blk               1\n",
       "           Tomatoes Tear Drop                1\n",
       "           Tea - Jasmin Green                1\n",
       "           Table Cloth 54x72 White           1\n",
       "3909       Wine - Valpolicella Masi          1\n",
       "\n",
       "[349 rows x 1 columns]"
      ]
     },
     "execution_count": 12,
     "metadata": {},
     "output_type": "execute_result"
    }
   ],
   "source": [
    "data_3"
   ]
  },
  {
   "cell_type": "markdown",
   "metadata": {},
   "source": [
    "### "
   ]
  },
  {
   "cell_type": "markdown",
   "metadata": {},
   "source": [
    "## Step 7: Filter the list for products that the chosen customer has not yet purchased and then recommend the top 5 products with the highest quantities that are left.\n",
    "\n",
    "- Merge the ranked products data frame with the customer product matrix on the ProductName field.\n",
    "- Filter for records where the chosen customer has not purchased the product.\n",
    "- Show the top 5 results."
   ]
  },
  {
   "cell_type": "code",
   "execution_count": 13,
   "metadata": {},
   "outputs": [],
   "source": [
    "# DF for items purchased by CustomerID 33\n",
    "data_4 = data[['CustomerID', 'ProductName', 'Quantity']]\n",
    "data_4 = data_4[(data_4['CustomerID'] == 33)]\n",
    "\n",
    "\n",
    "data_5 = pd.merge(data_3, data_4, on = ['ProductName'])\n",
    "\n",
    "data_5 = data_5.groupby(by = [data_5['CustomerID'], data_5['ProductName']], \n",
    "                        as_index = 'CustomerID', \n",
    "                        sort = False).agg({'Quantity_x' : 'sum', \n",
    "                                           'Quantity_y' : 'sum'})"
   ]
  },
  {
   "cell_type": "code",
   "execution_count": 14,
   "metadata": {},
   "outputs": [],
   "source": [
    "data_5 = data_5.reset_index()\n",
    "p_l = list(data_5['ProductName'])"
   ]
  },
  {
   "cell_type": "code",
   "execution_count": 15,
   "metadata": {},
   "outputs": [],
   "source": [
    "# Reference: https://stackoverflow.com/questions/19960077/how-to-filter-pandas-dataframe-using-in-and-not-in-like-in-sql\n",
    "\n",
    "data_3 = data_3.reset_index()\n",
    "\n",
    "df_f = data_3[~data_3['ProductName'].isin(p_l)][:5]"
   ]
  },
  {
   "cell_type": "code",
   "execution_count": 16,
   "metadata": {},
   "outputs": [],
   "source": [
    "r_l = list(df_f['ProductName'])"
   ]
  },
  {
   "cell_type": "code",
   "execution_count": 17,
   "metadata": {},
   "outputs": [
    {
     "data": {
      "text/plain": [
       "['Oranges - Navel, 72',\n",
       " 'Beef - Texas Style Burger',\n",
       " 'Squid U5 - Thailand',\n",
       " 'Sunflower Seed Raw',\n",
       " 'Guinea Fowl']"
      ]
     },
     "execution_count": 17,
     "metadata": {},
     "output_type": "execute_result"
    }
   ],
   "source": [
    "r_l"
   ]
  },
  {
   "cell_type": "markdown",
   "metadata": {},
   "source": [
    "## Step 8: Now that we have generated product recommendations for a single user, put the pieces together and iterate over a list of all CustomerIDs.\n",
    "\n",
    "- Create an empty dictionary that will hold the recommendations for all customers.\n",
    "- Create a list of unique CustomerIDs to iterate over.\n",
    "- Iterate over the customer list performing steps 4 through 7 for each and appending the results of each iteration to the dictionary you created."
   ]
  },
  {
   "cell_type": "code",
   "execution_count": 18,
   "metadata": {},
   "outputs": [],
   "source": [
    "# Step 1: Getting DataFrame with essencials \n",
    "\n",
    "def esc_df(file_route):\n",
    "    df = pd.read_csv(file_route)\n",
    "    return df.groupby(by=[data['CustomerID'], data['ProductName']],\n",
    "                     sort = False).agg({'Quantity' : 'sum'})"
   ]
  },
  {
   "cell_type": "code",
   "execution_count": 19,
   "metadata": {},
   "outputs": [],
   "source": [
    "df_1 = esc_df('../data/customer_product_sales.csv')"
   ]
  },
  {
   "cell_type": "code",
   "execution_count": 20,
   "metadata": {},
   "outputs": [],
   "source": [
    "# Step 2: PivotTable for product customer matrix\n",
    "\n",
    "def pt_cm(file_route):\n",
    "    df = pd.read_csv(file_route)\n",
    "    return pd.pivot_table(df, \n",
    "                         index = ['ProductID', 'ProductName'], \n",
    "                         columns = 'CustomerID', \n",
    "                         values = 'Quantity', \n",
    "                         fill_value = 0)"
   ]
  },
  {
   "cell_type": "code",
   "execution_count": 21,
   "metadata": {},
   "outputs": [],
   "source": [
    "pt_1 = pt_cm('../data/customer_product_sales.csv')"
   ]
  },
  {
   "cell_type": "code",
   "execution_count": 22,
   "metadata": {},
   "outputs": [],
   "source": [
    "# Step 3: Customer Similarity Matrix \n",
    "\n",
    "def distances(pt_cm, metric):\n",
    "    return pd.DataFrame(1/(1 + squareform(pdist(pt_cm.T, metric))), \n",
    "                        index = pt_cm.columns, columns = pt_cm.columns)"
   ]
  },
  {
   "cell_type": "code",
   "execution_count": 23,
   "metadata": {},
   "outputs": [],
   "source": [
    "distance = distances(pt_1, 'euclidean')"
   ]
  },
  {
   "cell_type": "code",
   "execution_count": 24,
   "metadata": {},
   "outputs": [],
   "source": [
    "# Step 4: Similarities by CustomerID - Top 5\n",
    "\n",
    "def similarities(distance):\n",
    "    simil_dict = defaultdict(list)\n",
    "    u_v = distance.index.unique()\n",
    "    for i in u_v:\n",
    "        simil = distance[i].sort_values(ascending = False)[1:7]\n",
    "        s_l = list(simil.index)\n",
    "        simil_dict[i].append(s_l)\n",
    "    return simil_dict"
   ]
  },
  {
   "cell_type": "code",
   "execution_count": 25,
   "metadata": {},
   "outputs": [],
   "source": [
    "simil_dict = pd.DataFrame(similarities(distance))"
   ]
  },
  {
   "cell_type": "code",
   "execution_count": 26,
   "metadata": {},
   "outputs": [],
   "source": [
    "# Step 4.1: Getting DF items from top 5 related users by user \n",
    "\n",
    "def prod_related_customers(simil_dict):\n",
    "    stp_1 = [simil_dict[item] for item in simil_dict.columns]\n",
    "    stp_2 = pd.DataFrame(stp_1)\n",
    "    stp_2.reset_index(inplace=True)\n",
    "    stp_3 = stp_2.rename({'index':'CustomerID', 0:\"RelatedUsers\"}, axis='columns')\n",
    "    \n",
    "    return stp_3"
   ]
  },
  {
   "cell_type": "code",
   "execution_count": 27,
   "metadata": {},
   "outputs": [],
   "source": [
    "related_customers_df = prod_related_customers(simil_dict)"
   ]
  },
  {
   "cell_type": "code",
   "execution_count": 28,
   "metadata": {},
   "outputs": [
    {
     "data": {
      "text/html": [
       "<div>\n",
       "<style scoped>\n",
       "    .dataframe tbody tr th:only-of-type {\n",
       "        vertical-align: middle;\n",
       "    }\n",
       "\n",
       "    .dataframe tbody tr th {\n",
       "        vertical-align: top;\n",
       "    }\n",
       "\n",
       "    .dataframe thead th {\n",
       "        text-align: right;\n",
       "    }\n",
       "</style>\n",
       "<table border=\"1\" class=\"dataframe\">\n",
       "  <thead>\n",
       "    <tr style=\"text-align: right;\">\n",
       "      <th></th>\n",
       "      <th>CustomerID</th>\n",
       "      <th>RelatedUsers</th>\n",
       "    </tr>\n",
       "  </thead>\n",
       "  <tbody>\n",
       "    <tr>\n",
       "      <th>0</th>\n",
       "      <td>33</td>\n",
       "      <td>[3909, 264, 3531, 2503, 3305, 1577]</td>\n",
       "    </tr>\n",
       "    <tr>\n",
       "      <th>1</th>\n",
       "      <td>200</td>\n",
       "      <td>[1920, 1072, 3253, 3317, 3909, 2939]</td>\n",
       "    </tr>\n",
       "    <tr>\n",
       "      <th>2</th>\n",
       "      <td>264</td>\n",
       "      <td>[33, 2915, 1920, 1072, 3472, 1008]</td>\n",
       "    </tr>\n",
       "    <tr>\n",
       "      <th>3</th>\n",
       "      <td>356</td>\n",
       "      <td>[3317, 3305, 3253, 3472, 2503, 1008]</td>\n",
       "    </tr>\n",
       "    <tr>\n",
       "      <th>4</th>\n",
       "      <td>412</td>\n",
       "      <td>[3317, 3472, 3535, 3253, 1008, 639]</td>\n",
       "    </tr>\n",
       "    <tr>\n",
       "      <th>...</th>\n",
       "      <td>...</td>\n",
       "      <td>...</td>\n",
       "    </tr>\n",
       "    <tr>\n",
       "      <th>995</th>\n",
       "      <td>97928</td>\n",
       "      <td>[18796, 14012, 22322, 11441, 29910, 18728]</td>\n",
       "    </tr>\n",
       "    <tr>\n",
       "      <th>996</th>\n",
       "      <td>98069</td>\n",
       "      <td>[31323, 23377, 27160, 17136, 25994, 20125]</td>\n",
       "    </tr>\n",
       "    <tr>\n",
       "      <th>997</th>\n",
       "      <td>98159</td>\n",
       "      <td>[22204, 32558, 23001, 23176, 39110, 16481]</td>\n",
       "    </tr>\n",
       "    <tr>\n",
       "      <th>998</th>\n",
       "      <td>98185</td>\n",
       "      <td>[32558, 23176, 33381, 47303, 18441, 32324]</td>\n",
       "    </tr>\n",
       "    <tr>\n",
       "      <th>999</th>\n",
       "      <td>98200</td>\n",
       "      <td>[11883, 23165, 15415, 18040, 27209, 13823]</td>\n",
       "    </tr>\n",
       "  </tbody>\n",
       "</table>\n",
       "<p>1000 rows × 2 columns</p>\n",
       "</div>"
      ],
      "text/plain": [
       "     CustomerID                                RelatedUsers\n",
       "0            33         [3909, 264, 3531, 2503, 3305, 1577]\n",
       "1           200        [1920, 1072, 3253, 3317, 3909, 2939]\n",
       "2           264          [33, 2915, 1920, 1072, 3472, 1008]\n",
       "3           356        [3317, 3305, 3253, 3472, 2503, 1008]\n",
       "4           412         [3317, 3472, 3535, 3253, 1008, 639]\n",
       "..          ...                                         ...\n",
       "995       97928  [18796, 14012, 22322, 11441, 29910, 18728]\n",
       "996       98069  [31323, 23377, 27160, 17136, 25994, 20125]\n",
       "997       98159  [22204, 32558, 23001, 23176, 39110, 16481]\n",
       "998       98185  [32558, 23176, 33381, 47303, 18441, 32324]\n",
       "999       98200  [11883, 23165, 15415, 18040, 27209, 13823]\n",
       "\n",
       "[1000 rows x 2 columns]"
      ]
     },
     "execution_count": 28,
     "metadata": {},
     "output_type": "execute_result"
    }
   ],
   "source": [
    "related_customers_df"
   ]
  },
  {
   "cell_type": "code",
   "execution_count": 29,
   "metadata": {},
   "outputs": [],
   "source": [
    "# Creating a DF with the top 5 related users top products\n",
    "\n",
    "def recommended_products(related_customers_df, df_1):\n",
    "    products_dict = list()\n",
    "    stp_1 = df_1.reset_index()\n",
    "    for item in related_customers_df['RelatedUsers']:\n",
    "        stp_2 = stp_1.CustomerID.isin(item)\n",
    "        stp_3 = stp_1[stp_2]\n",
    "        stp_4 = stp_3.groupby(by = [stp_3['CustomerID'],\n",
    "                                    stp_3['ProductName']]).agg({'Quantity' : 'sum'})\n",
    "        stp_5 = stp_4.sort_values(by = 'Quantity', ascending = False)\n",
    "        stp_6 = stp_5.reset_index()\n",
    "        stp_7 = list(stp_6['ProductName'][:5])\n",
    "        products_dict.append(stp_7)\n",
    "    return products_dict\n"
   ]
  },
  {
   "cell_type": "code",
   "execution_count": 30,
   "metadata": {},
   "outputs": [],
   "source": [
    "list_recommendation = recommended_products(related_customers_df, df_1)"
   ]
  },
  {
   "cell_type": "markdown",
   "metadata": {},
   "source": [
    "##  Step 9: Store the results in a Pandas data frame. The data frame should a column for Customer ID and then a column for each of the 5 product recommendations for each customer."
   ]
  },
  {
   "cell_type": "code",
   "execution_count": 31,
   "metadata": {},
   "outputs": [],
   "source": [
    "stp_8 = pd.DataFrame(recommended_products(related_customers_df, df_1),\n",
    "             index = related_customers_df['CustomerID'])\n",
    "stp_8['RecommendedProducts'] = stp_8[0] + ', ' + stp_8[1] + ', ' + stp_8[2] + ', ' + stp_8[3] + ', ' + stp_8[4] "
   ]
  },
  {
   "cell_type": "code",
   "execution_count": 32,
   "metadata": {
    "scrolled": true
   },
   "outputs": [
    {
     "data": {
      "text/html": [
       "<div>\n",
       "<style scoped>\n",
       "    .dataframe tbody tr th:only-of-type {\n",
       "        vertical-align: middle;\n",
       "    }\n",
       "\n",
       "    .dataframe tbody tr th {\n",
       "        vertical-align: top;\n",
       "    }\n",
       "\n",
       "    .dataframe thead th {\n",
       "        text-align: right;\n",
       "    }\n",
       "</style>\n",
       "<table border=\"1\" class=\"dataframe\">\n",
       "  <thead>\n",
       "    <tr style=\"text-align: right;\">\n",
       "      <th></th>\n",
       "      <th>RecommendedProducts</th>\n",
       "    </tr>\n",
       "    <tr>\n",
       "      <th>CustomerID</th>\n",
       "      <th></th>\n",
       "    </tr>\n",
       "  </thead>\n",
       "  <tbody>\n",
       "    <tr>\n",
       "      <th>33</th>\n",
       "      <td>Salsify, Organic, Oranges - Navel, 72, Beef - ...</td>\n",
       "    </tr>\n",
       "    <tr>\n",
       "      <th>200</th>\n",
       "      <td>Pork - Kidney, Ice Cream Bar - Oreo Cone, Ice ...</td>\n",
       "    </tr>\n",
       "    <tr>\n",
       "      <th>264</th>\n",
       "      <td>Cheese - Parmesan Grated, Pork - Kidney, Ice C...</td>\n",
       "    </tr>\n",
       "    <tr>\n",
       "      <th>356</th>\n",
       "      <td>Pepper - Black, Whole, Sage - Ground, Beets - ...</td>\n",
       "    </tr>\n",
       "    <tr>\n",
       "      <th>412</th>\n",
       "      <td>Wine - Vidal Icewine Magnotta, Table Cloth 81x...</td>\n",
       "    </tr>\n",
       "  </tbody>\n",
       "</table>\n",
       "</div>"
      ],
      "text/plain": [
       "                                          RecommendedProducts\n",
       "CustomerID                                                   \n",
       "33          Salsify, Organic, Oranges - Navel, 72, Beef - ...\n",
       "200         Pork - Kidney, Ice Cream Bar - Oreo Cone, Ice ...\n",
       "264         Cheese - Parmesan Grated, Pork - Kidney, Ice C...\n",
       "356         Pepper - Black, Whole, Sage - Ground, Beets - ...\n",
       "412         Wine - Vidal Icewine Magnotta, Table Cloth 81x..."
      ]
     },
     "execution_count": 32,
     "metadata": {},
     "output_type": "execute_result"
    }
   ],
   "source": [
    "stp_8.drop(labels=[0,1,2,3,4], axis = 1, inplace = True)\n",
    "stp_8.head()"
   ]
  },
  {
   "cell_type": "markdown",
   "metadata": {},
   "source": [
    "## Step 10: Change the distance metric used in Step 3 to something other than euclidean (correlation, cityblock, consine, jaccard, etc.). Regenerate the recommendations for all customers and note the differences."
   ]
  },
  {
   "cell_type": "code",
   "execution_count": 33,
   "metadata": {},
   "outputs": [
    {
     "data": {
      "text/html": [
       "<div>\n",
       "<style scoped>\n",
       "    .dataframe tbody tr th:only-of-type {\n",
       "        vertical-align: middle;\n",
       "    }\n",
       "\n",
       "    .dataframe tbody tr th {\n",
       "        vertical-align: top;\n",
       "    }\n",
       "\n",
       "    .dataframe thead th {\n",
       "        text-align: right;\n",
       "    }\n",
       "</style>\n",
       "<table border=\"1\" class=\"dataframe\">\n",
       "  <thead>\n",
       "    <tr style=\"text-align: right;\">\n",
       "      <th></th>\n",
       "      <th>RecommendedProducts</th>\n",
       "    </tr>\n",
       "    <tr>\n",
       "      <th>CustomerID</th>\n",
       "      <th></th>\n",
       "    </tr>\n",
       "  </thead>\n",
       "  <tbody>\n",
       "    <tr>\n",
       "      <th>33</th>\n",
       "      <td>Muffin - Zero Transfat, Phyllo Dough, Pasta - ...</td>\n",
       "    </tr>\n",
       "    <tr>\n",
       "      <th>200</th>\n",
       "      <td>Blueberries, Wiberg Super Cure, Pasta - Cheese...</td>\n",
       "    </tr>\n",
       "    <tr>\n",
       "      <th>264</th>\n",
       "      <td>Chicken - Wieners, Cookie - Dough Variety, Pea...</td>\n",
       "    </tr>\n",
       "    <tr>\n",
       "      <th>356</th>\n",
       "      <td>Yogurt - Blueberry, 175 Gr, Mussels - Frozen, ...</td>\n",
       "    </tr>\n",
       "    <tr>\n",
       "      <th>412</th>\n",
       "      <td>Muffin Mix - Blueberry, Halibut - Fletches, Sp...</td>\n",
       "    </tr>\n",
       "  </tbody>\n",
       "</table>\n",
       "</div>"
      ],
      "text/plain": [
       "                                          RecommendedProducts\n",
       "CustomerID                                                   \n",
       "33          Muffin - Zero Transfat, Phyllo Dough, Pasta - ...\n",
       "200         Blueberries, Wiberg Super Cure, Pasta - Cheese...\n",
       "264         Chicken - Wieners, Cookie - Dough Variety, Pea...\n",
       "356         Yogurt - Blueberry, 175 Gr, Mussels - Frozen, ...\n",
       "412         Muffin Mix - Blueberry, Halibut - Fletches, Sp..."
      ]
     },
     "execution_count": 33,
     "metadata": {},
     "output_type": "execute_result"
    }
   ],
   "source": [
    "distance = distances(pt_1, 'correlation')\n",
    "simil_dict = pd.DataFrame(similarities(distance))\n",
    "related_customers_df = prod_related_customers(simil_dict)\n",
    "list_recommendation = recommended_products(related_customers_df, df_1)\n",
    "stp_8 = pd.DataFrame(recommended_products(related_customers_df, df_1),\n",
    "             index = related_customers_df['CustomerID'])\n",
    "stp_8['RecommendedProducts'] = stp_8[0] + ', ' + stp_8[1] + ', ' + stp_8[2] + ', ' + stp_8[3] + ', ' + stp_8[4]\n",
    "stp_8.drop(labels=[0,1,2,3,4], axis = 1, inplace = True)\n",
    "stp_8.head()"
   ]
  },
  {
   "cell_type": "code",
   "execution_count": 34,
   "metadata": {},
   "outputs": [
    {
     "data": {
      "text/html": [
       "<div>\n",
       "<style scoped>\n",
       "    .dataframe tbody tr th:only-of-type {\n",
       "        vertical-align: middle;\n",
       "    }\n",
       "\n",
       "    .dataframe tbody tr th {\n",
       "        vertical-align: top;\n",
       "    }\n",
       "\n",
       "    .dataframe thead th {\n",
       "        text-align: right;\n",
       "    }\n",
       "</style>\n",
       "<table border=\"1\" class=\"dataframe\">\n",
       "  <thead>\n",
       "    <tr style=\"text-align: right;\">\n",
       "      <th></th>\n",
       "      <th>RecommendedProducts</th>\n",
       "    </tr>\n",
       "    <tr>\n",
       "      <th>CustomerID</th>\n",
       "      <th></th>\n",
       "    </tr>\n",
       "  </thead>\n",
       "  <tbody>\n",
       "    <tr>\n",
       "      <th>33</th>\n",
       "      <td>Salsify, Organic, Oranges - Navel, 72, Beef - ...</td>\n",
       "    </tr>\n",
       "    <tr>\n",
       "      <th>200</th>\n",
       "      <td>Pork - Kidney, Ice Cream Bar - Oreo Cone, Ice ...</td>\n",
       "    </tr>\n",
       "    <tr>\n",
       "      <th>264</th>\n",
       "      <td>Cheese - Parmesan Grated, Pork - Kidney, Ice C...</td>\n",
       "    </tr>\n",
       "    <tr>\n",
       "      <th>356</th>\n",
       "      <td>Pepper - Black, Whole, Sage - Ground, Beets - ...</td>\n",
       "    </tr>\n",
       "    <tr>\n",
       "      <th>412</th>\n",
       "      <td>Veal - Sweetbread, Table Cloth 81x81 White, Po...</td>\n",
       "    </tr>\n",
       "  </tbody>\n",
       "</table>\n",
       "</div>"
      ],
      "text/plain": [
       "                                          RecommendedProducts\n",
       "CustomerID                                                   \n",
       "33          Salsify, Organic, Oranges - Navel, 72, Beef - ...\n",
       "200         Pork - Kidney, Ice Cream Bar - Oreo Cone, Ice ...\n",
       "264         Cheese - Parmesan Grated, Pork - Kidney, Ice C...\n",
       "356         Pepper - Black, Whole, Sage - Ground, Beets - ...\n",
       "412         Veal - Sweetbread, Table Cloth 81x81 White, Po..."
      ]
     },
     "execution_count": 34,
     "metadata": {},
     "output_type": "execute_result"
    }
   ],
   "source": [
    "distance = distances(pt_1, 'cityblock')\n",
    "simil_dict = pd.DataFrame(similarities(distance))\n",
    "related_customers_df = prod_related_customers(simil_dict)\n",
    "list_recommendation = recommended_products(related_customers_df, df_1)\n",
    "stp_8 = pd.DataFrame(recommended_products(related_customers_df, df_1),\n",
    "             index = related_customers_df['CustomerID'])\n",
    "stp_8['RecommendedProducts'] = stp_8[0] + ', ' + stp_8[1] + ', ' + stp_8[2] + ', ' + stp_8[3] + ', ' + stp_8[4]\n",
    "stp_8.drop(labels=[0,1,2,3,4], axis = 1, inplace = True)\n",
    "stp_8.head()"
   ]
  },
  {
   "cell_type": "code",
   "execution_count": 35,
   "metadata": {},
   "outputs": [
    {
     "data": {
      "text/html": [
       "<div>\n",
       "<style scoped>\n",
       "    .dataframe tbody tr th:only-of-type {\n",
       "        vertical-align: middle;\n",
       "    }\n",
       "\n",
       "    .dataframe tbody tr th {\n",
       "        vertical-align: top;\n",
       "    }\n",
       "\n",
       "    .dataframe thead th {\n",
       "        text-align: right;\n",
       "    }\n",
       "</style>\n",
       "<table border=\"1\" class=\"dataframe\">\n",
       "  <thead>\n",
       "    <tr style=\"text-align: right;\">\n",
       "      <th></th>\n",
       "      <th>RecommendedProducts</th>\n",
       "    </tr>\n",
       "    <tr>\n",
       "      <th>CustomerID</th>\n",
       "      <th></th>\n",
       "    </tr>\n",
       "  </thead>\n",
       "  <tbody>\n",
       "    <tr>\n",
       "      <th>33</th>\n",
       "      <td>Bread Crumbs - Japanese Style, Pasta - Cheese ...</td>\n",
       "    </tr>\n",
       "    <tr>\n",
       "      <th>200</th>\n",
       "      <td>Pasta - Cheese / Spinach Bauletti, Wiberg Supe...</td>\n",
       "    </tr>\n",
       "    <tr>\n",
       "      <th>264</th>\n",
       "      <td>Scallops - 10/20, Chicken - Wieners, Bouq All ...</td>\n",
       "    </tr>\n",
       "    <tr>\n",
       "      <th>356</th>\n",
       "      <td>Chicken - Soup Base, Ecolab - Lime - A - Way 4...</td>\n",
       "    </tr>\n",
       "    <tr>\n",
       "      <th>412</th>\n",
       "      <td>Sprouts - Alfalfa, Halibut - Fletches, Wine - ...</td>\n",
       "    </tr>\n",
       "  </tbody>\n",
       "</table>\n",
       "</div>"
      ],
      "text/plain": [
       "                                          RecommendedProducts\n",
       "CustomerID                                                   \n",
       "33          Bread Crumbs - Japanese Style, Pasta - Cheese ...\n",
       "200         Pasta - Cheese / Spinach Bauletti, Wiberg Supe...\n",
       "264         Scallops - 10/20, Chicken - Wieners, Bouq All ...\n",
       "356         Chicken - Soup Base, Ecolab - Lime - A - Way 4...\n",
       "412         Sprouts - Alfalfa, Halibut - Fletches, Wine - ..."
      ]
     },
     "execution_count": 35,
     "metadata": {},
     "output_type": "execute_result"
    }
   ],
   "source": [
    "distance = distances(pt_1, 'cosine')\n",
    "simil_dict = pd.DataFrame(similarities(distance))\n",
    "related_customers_df = prod_related_customers(simil_dict)\n",
    "list_recommendation = recommended_products(related_customers_df, df_1)\n",
    "stp_8 = pd.DataFrame(recommended_products(related_customers_df, df_1),\n",
    "             index = related_customers_df['CustomerID'])\n",
    "stp_8['RecommendedProducts'] = stp_8[0] + ', ' + stp_8[1] + ', ' + stp_8[2] + ', ' + stp_8[3] + ', ' + stp_8[4]\n",
    "stp_8.drop(labels=[0,1,2,3,4], axis = 1, inplace = True)\n",
    "stp_8.head()"
   ]
  },
  {
   "cell_type": "code",
   "execution_count": 36,
   "metadata": {},
   "outputs": [
    {
     "data": {
      "text/html": [
       "<div>\n",
       "<style scoped>\n",
       "    .dataframe tbody tr th:only-of-type {\n",
       "        vertical-align: middle;\n",
       "    }\n",
       "\n",
       "    .dataframe tbody tr th {\n",
       "        vertical-align: top;\n",
       "    }\n",
       "\n",
       "    .dataframe thead th {\n",
       "        text-align: right;\n",
       "    }\n",
       "</style>\n",
       "<table border=\"1\" class=\"dataframe\">\n",
       "  <thead>\n",
       "    <tr style=\"text-align: right;\">\n",
       "      <th></th>\n",
       "      <th>RecommendedProducts</th>\n",
       "    </tr>\n",
       "    <tr>\n",
       "      <th>CustomerID</th>\n",
       "      <th></th>\n",
       "    </tr>\n",
       "  </thead>\n",
       "  <tbody>\n",
       "    <tr>\n",
       "      <th>33</th>\n",
       "      <td>Salsify, Organic, Pop Shoppe Cream Soda, Foam ...</td>\n",
       "    </tr>\n",
       "    <tr>\n",
       "      <th>200</th>\n",
       "      <td>Pork - Kidney, Lime Cordial - Roses, Nantuket ...</td>\n",
       "    </tr>\n",
       "    <tr>\n",
       "      <th>264</th>\n",
       "      <td>Cheese - Parmesan Grated, V8 - Berry Blend, Ch...</td>\n",
       "    </tr>\n",
       "    <tr>\n",
       "      <th>356</th>\n",
       "      <td>Sausage - Breakfast, Beans - Wax, Cocktail Nap...</td>\n",
       "    </tr>\n",
       "    <tr>\n",
       "      <th>412</th>\n",
       "      <td>Cumin - Whole, Sausage - Breakfast, Watercress...</td>\n",
       "    </tr>\n",
       "  </tbody>\n",
       "</table>\n",
       "</div>"
      ],
      "text/plain": [
       "                                          RecommendedProducts\n",
       "CustomerID                                                   \n",
       "33          Salsify, Organic, Pop Shoppe Cream Soda, Foam ...\n",
       "200         Pork - Kidney, Lime Cordial - Roses, Nantuket ...\n",
       "264         Cheese - Parmesan Grated, V8 - Berry Blend, Ch...\n",
       "356         Sausage - Breakfast, Beans - Wax, Cocktail Nap...\n",
       "412         Cumin - Whole, Sausage - Breakfast, Watercress..."
      ]
     },
     "execution_count": 36,
     "metadata": {},
     "output_type": "execute_result"
    }
   ],
   "source": [
    "distance = distances(pt_1, 'jaccard')\n",
    "simil_dict = pd.DataFrame(similarities(distance))\n",
    "related_customers_df = prod_related_customers(simil_dict)\n",
    "list_recommendation = recommended_products(related_customers_df, df_1)\n",
    "stp_8 = pd.DataFrame(recommended_products(related_customers_df, df_1),\n",
    "             index = related_customers_df['CustomerID'])\n",
    "stp_8['RecommendedProducts'] = stp_8[0] + ', ' + stp_8[1] + ', ' + stp_8[2] + ', ' + stp_8[3] + ', ' + stp_8[4]\n",
    "stp_8.drop(labels=[0,1,2,3,4], axis = 1, inplace = True)\n",
    "stp_8.head()"
   ]
  },
  {
   "cell_type": "code",
   "execution_count": null,
   "metadata": {},
   "outputs": [],
   "source": []
  }
 ],
 "metadata": {
  "kernelspec": {
   "display_name": "Python 3",
   "language": "python",
   "name": "python3"
  },
  "language_info": {
   "codemirror_mode": {
    "name": "ipython",
    "version": 3
   },
   "file_extension": ".py",
   "mimetype": "text/x-python",
   "name": "python",
   "nbconvert_exporter": "python",
   "pygments_lexer": "ipython3",
   "version": "3.8.5"
  }
 },
 "nbformat": 4,
 "nbformat_minor": 4
}
